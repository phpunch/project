{
 "cells": [
  {
   "cell_type": "code",
   "execution_count": 1,
   "metadata": {},
   "outputs": [],
   "source": [
    "import librosa.display\n",
    "import os\n",
    "from tqdm import tqdm_notebook as tqdm\n",
    "import glob\n",
    "from collections import defaultdict\n",
    "import pickle\n",
    "import numpy as np\n",
    "import matplotlib.pyplot as plt\n",
    "import pandas as pd\n",
    "import gc\n",
    "from sklearn.model_selection import train_test_split\n",
    "%matplotlib inline"
   ]
  },
  {
   "cell_type": "code",
   "execution_count": 2,
   "metadata": {},
   "outputs": [],
   "source": [
    "MFCC_MAX_LEN = 1000\n",
    "NUM_CEPSTRUM = 23"
   ]
  },
  {
   "cell_type": "code",
   "execution_count": 3,
   "metadata": {},
   "outputs": [],
   "source": [
    "path = '/DriveE/linux/data/'\n",
    "\n",
    "train_filename_list = glob.glob(os.path.join(path, '*train-clean*'))\n",
    "test_filename_list = glob.glob(os.path.join(path, '*test-clean*'))\n",
    "\n",
    "#train_filename_list"
   ]
  },
  {
   "cell_type": "markdown",
   "metadata": {},
   "source": [
    "# Helper function"
   ]
  },
  {
   "cell_type": "code",
   "execution_count": 4,
   "metadata": {},
   "outputs": [],
   "source": [
    "obj_path = os.path.join(path, 'obj/')\n",
    "def save_obj(obj, name ):\n",
    "    with open(obj_path + name + '.pkl', 'wb') as f:\n",
    "        pickle.dump(obj, f, pickle.HIGHEST_PROTOCOL)\n",
    "\n",
    "def load_obj(name ):\n",
    "    with open(obj_path + name + '.pkl', 'rb') as f:\n",
    "        return pickle.load(f)"
   ]
  },
  {
   "cell_type": "code",
   "execution_count": 5,
   "metadata": {},
   "outputs": [],
   "source": [
    "def get_features_from_text(txt):\n",
    "    features = defaultdict(list)\n",
    "    spk_list = set()\n",
    "    uttid_list = []\n",
    "    spk2utt = defaultdict(list)\n",
    "    for line in tqdm(txt):\n",
    "        if ('[' in line):\n",
    "            uttid = line.split()[0]\n",
    "            spk, chapter, utt_num = uttid.split('-')\n",
    "            spk_list.add(spk)\n",
    "            uttid_list.append(uttid)\n",
    "            spk2utt[spk].append(uttid)\n",
    "        elif (']' in line):\n",
    "            features[uttid].append([float(x) for x in line[:-1].split()])\n",
    "        else:\n",
    "            features[uttid].append([float(x) for x in line.split()])\n",
    "    return features, spk_list, uttid_list, spk2utt"
   ]
  },
  {
   "cell_type": "code",
   "execution_count": 23,
   "metadata": {},
   "outputs": [],
   "source": [
    "def clean_mfcc(mfcc):\n",
    "    if (MFCC_MAX_LEN > mfcc.shape[1]):\n",
    "        # padding \n",
    "        pad_width = MFCC_MAX_LEN - mfcc.shape[1]\n",
    "        mfcc = np.pad(mfcc, pad_width=((0, 0), (0, pad_width)), mode='constant')\n",
    "    else:\n",
    "        # cutoff\n",
    "        mfcc = mfcc[:,:MFCC_MAX_LEN]\n",
    "    return mfcc\n",
    "\n",
    "def feature_scaling(mfcc):\n",
    "    # Standardization with CMVN\n",
    "    mean = np.mean(mfcc,axis=1).reshape(23,1)\n",
    "    std = np.std(mfcc,axis=1).reshape(23,1)\n",
    "    return (mfcc - mean)/std\n",
    "\n",
    "def convert_to_mfcc(features):\n",
    "    mfccs = {}\n",
    "    for uttid in features.keys():\n",
    "        mfcc = np.array(features[uttid]).T # shape (num_ceptrum, timestep)\n",
    "        mfcc = feature_scaling(mfcc)\n",
    "        assert mfcc.shape[0] == 23\n",
    "        mfccs[uttid] = mfcc\n",
    "    return mfccs\n",
    "\n",
    "def get_timestep_data(mfccs):\n",
    "    timestep_list = []\n",
    "    for uttid in mfccs.keys():\n",
    "        mfcc = mfccs[uttid]\n",
    "        assert mfcc.shape[0] == 23\n",
    "        timestep_list.append(mfcc.shape[1])\n",
    "    return timestep_list\n",
    "\n",
    "def clean_and_save_mfcc(mfccs):\n",
    "    for uttid in mfccs.keys():\n",
    "        mfcc = mfccs[uttid]\n",
    "        assert mfcc.shape[0] == 23\n",
    "        mfcc = clean_mfcc(mfcc).T # shape (timestep, num_ceptrum)\n",
    "        save_obj(mfcc, uttid)"
   ]
  },
  {
   "cell_type": "code",
   "execution_count": 24,
   "metadata": {},
   "outputs": [],
   "source": [
    "def manage_dataset(dataset):\n",
    "    if (dataset == 'train'):\n",
    "        datapath_list = train_filename_list\n",
    "    elif (dataset == 'test'):\n",
    "        datapath_list = test_filename_list\n",
    "    assert len(datapath_list) > 0\n",
    "    \n",
    "    spk2utt = defaultdict(list)\n",
    "    timesteps_list = []\n",
    "    for filepath in datapath_list:\n",
    "        with open(filepath) as f:\n",
    "            filename = os.path.basename(filepath)\n",
    "            print(filename)\n",
    "            \n",
    "            # read text files from kaldi \n",
    "            txt = [line.strip() for line in f.readlines()]\n",
    "            \n",
    "            # extract features from text\n",
    "            features, spk_list, uttid_list, spk2utt_sub = get_features_from_text(txt)\n",
    "            \n",
    "            # convert features to np.array\n",
    "            mfccs = convert_to_mfcc(features)\n",
    "            \n",
    "            timesteps = get_timestep_data(mfccs)\n",
    "            timesteps_list.extend(timesteps)\n",
    "            \n",
    "            # save mfcc to pickle\n",
    "            clean_and_save_mfcc(mfccs)\n",
    "            \n",
    "            filename_pkl = filename[:-3] + 'pkl'\n",
    "            for spk in spk2utt_sub.keys():\n",
    "                spk2utt[spk].extend(spk2utt_sub[spk])\n",
    "    save_obj(spk2utt, 'spk2utt_' + dataset)\n",
    "    save_obj(timesteps_list, 'timesteps')"
   ]
  },
  {
   "cell_type": "code",
   "execution_count": 25,
   "metadata": {},
   "outputs": [
    {
     "name": "stdout",
     "output_type": "stream",
     "text": [
      "raw_mfcc_train-clean.23.txt\n"
     ]
    },
    {
     "data": {
      "application/vnd.jupyter.widget-view+json": {
       "model_id": "69a8cae7991e4d9bb63b8c5649c37542",
       "version_major": 2,
       "version_minor": 0
      },
      "text/plain": [
       "HBox(children=(IntProgress(value=0, max=947309), HTML(value='')))"
      ]
     },
     "metadata": {},
     "output_type": "display_data"
    },
    {
     "name": "stdout",
     "output_type": "stream",
     "text": [
      "\n",
      "raw_mfcc_train-clean.24.txt\n"
     ]
    },
    {
     "data": {
      "application/vnd.jupyter.widget-view+json": {
       "model_id": "905ea3e76d11494a8aa074f3f91965c8",
       "version_major": 2,
       "version_minor": 0
      },
      "text/plain": [
       "HBox(children=(IntProgress(value=0, max=886667), HTML(value='')))"
      ]
     },
     "metadata": {},
     "output_type": "display_data"
    },
    {
     "name": "stdout",
     "output_type": "stream",
     "text": [
      "\n",
      "raw_mfcc_train-clean.25.txt\n"
     ]
    },
    {
     "data": {
      "application/vnd.jupyter.widget-view+json": {
       "model_id": "4abdcc9f24734d38884caaf22856fca5",
       "version_major": 2,
       "version_minor": 0
      },
      "text/plain": [
       "HBox(children=(IntProgress(value=0, max=846794), HTML(value='')))"
      ]
     },
     "metadata": {},
     "output_type": "display_data"
    },
    {
     "name": "stdout",
     "output_type": "stream",
     "text": [
      "\n",
      "raw_mfcc_train-clean.26.txt\n"
     ]
    },
    {
     "data": {
      "application/vnd.jupyter.widget-view+json": {
       "model_id": "5beeceb6fd564f16b74a182da51ea501",
       "version_major": 2,
       "version_minor": 0
      },
      "text/plain": [
       "HBox(children=(IntProgress(value=0, max=911804), HTML(value='')))"
      ]
     },
     "metadata": {},
     "output_type": "display_data"
    },
    {
     "name": "stdout",
     "output_type": "stream",
     "text": [
      "\n",
      "raw_mfcc_train-clean.27.txt\n"
     ]
    },
    {
     "data": {
      "application/vnd.jupyter.widget-view+json": {
       "model_id": "91ff043b264344e2964f47be93a7f0ff",
       "version_major": 2,
       "version_minor": 0
      },
      "text/plain": [
       "HBox(children=(IntProgress(value=0, max=914983), HTML(value='')))"
      ]
     },
     "metadata": {},
     "output_type": "display_data"
    },
    {
     "name": "stdout",
     "output_type": "stream",
     "text": [
      "\n",
      "raw_mfcc_train-clean.28.txt\n"
     ]
    },
    {
     "data": {
      "application/vnd.jupyter.widget-view+json": {
       "model_id": "91ff917845964c8b802b2bc533760b43",
       "version_major": 2,
       "version_minor": 0
      },
      "text/plain": [
       "HBox(children=(IntProgress(value=0, max=908819), HTML(value='')))"
      ]
     },
     "metadata": {},
     "output_type": "display_data"
    },
    {
     "name": "stdout",
     "output_type": "stream",
     "text": [
      "\n",
      "raw_mfcc_train-clean.29.txt\n"
     ]
    },
    {
     "data": {
      "application/vnd.jupyter.widget-view+json": {
       "model_id": "8c1068bd2d864292ac00b3a44d290feb",
       "version_major": 2,
       "version_minor": 0
      },
      "text/plain": [
       "HBox(children=(IntProgress(value=0, max=957992), HTML(value='')))"
      ]
     },
     "metadata": {},
     "output_type": "display_data"
    },
    {
     "name": "stdout",
     "output_type": "stream",
     "text": [
      "\n",
      "raw_mfcc_train-clean.3.txt\n"
     ]
    },
    {
     "data": {
      "application/vnd.jupyter.widget-view+json": {
       "model_id": "4b33d0024b214d3ba9923569918444d7",
       "version_major": 2,
       "version_minor": 0
      },
      "text/plain": [
       "HBox(children=(IntProgress(value=0, max=920454), HTML(value='')))"
      ]
     },
     "metadata": {},
     "output_type": "display_data"
    },
    {
     "name": "stdout",
     "output_type": "stream",
     "text": [
      "\n",
      "raw_mfcc_train-clean.30.txt\n"
     ]
    },
    {
     "data": {
      "application/vnd.jupyter.widget-view+json": {
       "model_id": "dab5dcb22cb04bec9aa16c7bcfdd1d25",
       "version_major": 2,
       "version_minor": 0
      },
      "text/plain": [
       "HBox(children=(IntProgress(value=0, max=910227), HTML(value='')))"
      ]
     },
     "metadata": {},
     "output_type": "display_data"
    },
    {
     "name": "stdout",
     "output_type": "stream",
     "text": [
      "\n",
      "raw_mfcc_train-clean.31.txt\n"
     ]
    },
    {
     "data": {
      "application/vnd.jupyter.widget-view+json": {
       "model_id": "34fcd8cee2084c16a8eedbabdd8e8801",
       "version_major": 2,
       "version_minor": 0
      },
      "text/plain": [
       "HBox(children=(IntProgress(value=0, max=951164), HTML(value='')))"
      ]
     },
     "metadata": {},
     "output_type": "display_data"
    },
    {
     "name": "stdout",
     "output_type": "stream",
     "text": [
      "\n",
      "raw_mfcc_train-clean.32.txt\n"
     ]
    },
    {
     "data": {
      "application/vnd.jupyter.widget-view+json": {
       "model_id": "283a2f7fce034accb423d61f5f307012",
       "version_major": 2,
       "version_minor": 0
      },
      "text/plain": [
       "HBox(children=(IntProgress(value=0, max=928787), HTML(value='')))"
      ]
     },
     "metadata": {},
     "output_type": "display_data"
    },
    {
     "name": "stdout",
     "output_type": "stream",
     "text": [
      "\n",
      "raw_mfcc_train-clean.33.txt\n"
     ]
    },
    {
     "data": {
      "application/vnd.jupyter.widget-view+json": {
       "model_id": "22ede9f2ab5d4c3ca9ddfecd5d8602d7",
       "version_major": 2,
       "version_minor": 0
      },
      "text/plain": [
       "HBox(children=(IntProgress(value=0, max=830720), HTML(value='')))"
      ]
     },
     "metadata": {},
     "output_type": "display_data"
    },
    {
     "name": "stdout",
     "output_type": "stream",
     "text": [
      "\n",
      "raw_mfcc_train-clean.34.txt\n"
     ]
    },
    {
     "data": {
      "application/vnd.jupyter.widget-view+json": {
       "model_id": "197c0ef1abb44897a68d20201f5cd449",
       "version_major": 2,
       "version_minor": 0
      },
      "text/plain": [
       "HBox(children=(IntProgress(value=0, max=949410), HTML(value='')))"
      ]
     },
     "metadata": {},
     "output_type": "display_data"
    },
    {
     "name": "stdout",
     "output_type": "stream",
     "text": [
      "\n",
      "raw_mfcc_train-clean.35.txt\n"
     ]
    },
    {
     "data": {
      "application/vnd.jupyter.widget-view+json": {
       "model_id": "a1a66ff909bc45778bcae72e2ccc44f2",
       "version_major": 2,
       "version_minor": 0
      },
      "text/plain": [
       "HBox(children=(IntProgress(value=0, max=914785), HTML(value='')))"
      ]
     },
     "metadata": {},
     "output_type": "display_data"
    },
    {
     "name": "stdout",
     "output_type": "stream",
     "text": [
      "\n",
      "raw_mfcc_train-clean.36.txt\n"
     ]
    },
    {
     "data": {
      "application/vnd.jupyter.widget-view+json": {
       "model_id": "c59f7e1d44bd48ad85e67a7aa8e710f9",
       "version_major": 2,
       "version_minor": 0
      },
      "text/plain": [
       "HBox(children=(IntProgress(value=0, max=890482), HTML(value='')))"
      ]
     },
     "metadata": {},
     "output_type": "display_data"
    },
    {
     "name": "stdout",
     "output_type": "stream",
     "text": [
      "\n",
      "raw_mfcc_train-clean.37.txt\n"
     ]
    },
    {
     "data": {
      "application/vnd.jupyter.widget-view+json": {
       "model_id": "882b6a66ffff403b9f9cf5d729ac402a",
       "version_major": 2,
       "version_minor": 0
      },
      "text/plain": [
       "HBox(children=(IntProgress(value=0, max=918939), HTML(value='')))"
      ]
     },
     "metadata": {},
     "output_type": "display_data"
    },
    {
     "name": "stdout",
     "output_type": "stream",
     "text": [
      "\n",
      "raw_mfcc_train-clean.38.txt\n"
     ]
    },
    {
     "data": {
      "application/vnd.jupyter.widget-view+json": {
       "model_id": "7124552fce5d49f48401c42b76d7e598",
       "version_major": 2,
       "version_minor": 0
      },
      "text/plain": [
       "HBox(children=(IntProgress(value=0, max=922861), HTML(value='')))"
      ]
     },
     "metadata": {},
     "output_type": "display_data"
    },
    {
     "name": "stdout",
     "output_type": "stream",
     "text": [
      "\n",
      "raw_mfcc_train-clean.39.txt\n"
     ]
    },
    {
     "data": {
      "application/vnd.jupyter.widget-view+json": {
       "model_id": "ec40073baece45ef8521e6d6f5d5b5e6",
       "version_major": 2,
       "version_minor": 0
      },
      "text/plain": [
       "HBox(children=(IntProgress(value=0, max=939548), HTML(value='')))"
      ]
     },
     "metadata": {},
     "output_type": "display_data"
    },
    {
     "name": "stdout",
     "output_type": "stream",
     "text": [
      "\n",
      "raw_mfcc_train-clean.4.txt\n"
     ]
    },
    {
     "data": {
      "application/vnd.jupyter.widget-view+json": {
       "model_id": "0a709fa41048492d991385cd7a3bff28",
       "version_major": 2,
       "version_minor": 0
      },
      "text/plain": [
       "HBox(children=(IntProgress(value=0, max=884892), HTML(value='')))"
      ]
     },
     "metadata": {},
     "output_type": "display_data"
    },
    {
     "name": "stdout",
     "output_type": "stream",
     "text": [
      "\n",
      "raw_mfcc_train-clean.40.txt\n"
     ]
    },
    {
     "data": {
      "application/vnd.jupyter.widget-view+json": {
       "model_id": "6791626aa0d34d8eb7b65214d2433008",
       "version_major": 2,
       "version_minor": 0
      },
      "text/plain": [
       "HBox(children=(IntProgress(value=0, max=937001), HTML(value='')))"
      ]
     },
     "metadata": {},
     "output_type": "display_data"
    },
    {
     "name": "stdout",
     "output_type": "stream",
     "text": [
      "\n",
      "raw_mfcc_train-clean.5.txt\n"
     ]
    },
    {
     "data": {
      "application/vnd.jupyter.widget-view+json": {
       "model_id": "40af3a5feb9d42088386d5da229b0bef",
       "version_major": 2,
       "version_minor": 0
      },
      "text/plain": [
       "HBox(children=(IntProgress(value=0, max=887448), HTML(value='')))"
      ]
     },
     "metadata": {},
     "output_type": "display_data"
    },
    {
     "name": "stdout",
     "output_type": "stream",
     "text": [
      "\n",
      "raw_mfcc_train-clean.6.txt\n"
     ]
    },
    {
     "data": {
      "application/vnd.jupyter.widget-view+json": {
       "model_id": "7ed0bbbce56b4b06972d2771be5fcf0b",
       "version_major": 2,
       "version_minor": 0
      },
      "text/plain": [
       "HBox(children=(IntProgress(value=0, max=886005), HTML(value='')))"
      ]
     },
     "metadata": {},
     "output_type": "display_data"
    },
    {
     "name": "stdout",
     "output_type": "stream",
     "text": [
      "\n",
      "raw_mfcc_train-clean.7.txt\n"
     ]
    },
    {
     "data": {
      "application/vnd.jupyter.widget-view+json": {
       "model_id": "162978fbd6884bb7815dd8ab45b1d8fc",
       "version_major": 2,
       "version_minor": 0
      },
      "text/plain": [
       "HBox(children=(IntProgress(value=0, max=908556), HTML(value='')))"
      ]
     },
     "metadata": {},
     "output_type": "display_data"
    },
    {
     "name": "stdout",
     "output_type": "stream",
     "text": [
      "\n",
      "raw_mfcc_train-clean.8.txt\n"
     ]
    },
    {
     "data": {
      "application/vnd.jupyter.widget-view+json": {
       "model_id": "cf877d5c6d434a34b8aad5632dff166c",
       "version_major": 2,
       "version_minor": 0
      },
      "text/plain": [
       "HBox(children=(IntProgress(value=0, max=873460), HTML(value='')))"
      ]
     },
     "metadata": {},
     "output_type": "display_data"
    },
    {
     "name": "stdout",
     "output_type": "stream",
     "text": [
      "\n",
      "raw_mfcc_train-clean.9.txt\n"
     ]
    },
    {
     "data": {
      "application/vnd.jupyter.widget-view+json": {
       "model_id": "8850fa987f5c404ea529563def422d94",
       "version_major": 2,
       "version_minor": 0
      },
      "text/plain": [
       "HBox(children=(IntProgress(value=0, max=913921), HTML(value='')))"
      ]
     },
     "metadata": {},
     "output_type": "display_data"
    },
    {
     "name": "stdout",
     "output_type": "stream",
     "text": [
      "\n",
      "raw_mfcc_train-clean.1.txt\n"
     ]
    },
    {
     "data": {
      "application/vnd.jupyter.widget-view+json": {
       "model_id": "b7b186d04e554840815d4201a4f09df2",
       "version_major": 2,
       "version_minor": 0
      },
      "text/plain": [
       "HBox(children=(IntProgress(value=0, max=891693), HTML(value='')))"
      ]
     },
     "metadata": {},
     "output_type": "display_data"
    },
    {
     "name": "stdout",
     "output_type": "stream",
     "text": [
      "\n",
      "raw_mfcc_train-clean.10.txt\n"
     ]
    },
    {
     "data": {
      "application/vnd.jupyter.widget-view+json": {
       "model_id": "2792f39c01c44352baba7e1ee47d94fe",
       "version_major": 2,
       "version_minor": 0
      },
      "text/plain": [
       "HBox(children=(IntProgress(value=0, max=936940), HTML(value='')))"
      ]
     },
     "metadata": {},
     "output_type": "display_data"
    },
    {
     "name": "stdout",
     "output_type": "stream",
     "text": [
      "\n",
      "raw_mfcc_train-clean.11.txt\n"
     ]
    },
    {
     "data": {
      "application/vnd.jupyter.widget-view+json": {
       "model_id": "2278059d921e44dbafad28f03b73d996",
       "version_major": 2,
       "version_minor": 0
      },
      "text/plain": [
       "HBox(children=(IntProgress(value=0, max=870480), HTML(value='')))"
      ]
     },
     "metadata": {},
     "output_type": "display_data"
    },
    {
     "name": "stdout",
     "output_type": "stream",
     "text": [
      "\n",
      "raw_mfcc_train-clean.12.txt\n"
     ]
    },
    {
     "data": {
      "application/vnd.jupyter.widget-view+json": {
       "model_id": "ee6aee64257647279fe5e781b0f188bf",
       "version_major": 2,
       "version_minor": 0
      },
      "text/plain": [
       "HBox(children=(IntProgress(value=0, max=942098), HTML(value='')))"
      ]
     },
     "metadata": {},
     "output_type": "display_data"
    },
    {
     "name": "stdout",
     "output_type": "stream",
     "text": [
      "\n",
      "raw_mfcc_train-clean.13.txt\n"
     ]
    },
    {
     "data": {
      "application/vnd.jupyter.widget-view+json": {
       "model_id": "c2ab90b142284d22b83ef35dc1291cff",
       "version_major": 2,
       "version_minor": 0
      },
      "text/plain": [
       "HBox(children=(IntProgress(value=0, max=867037), HTML(value='')))"
      ]
     },
     "metadata": {},
     "output_type": "display_data"
    },
    {
     "name": "stdout",
     "output_type": "stream",
     "text": [
      "\n",
      "raw_mfcc_train-clean.14.txt\n"
     ]
    },
    {
     "data": {
      "application/vnd.jupyter.widget-view+json": {
       "model_id": "a2816f06898c43c08e049a5ee3994e0c",
       "version_major": 2,
       "version_minor": 0
      },
      "text/plain": [
       "HBox(children=(IntProgress(value=0, max=895202), HTML(value='')))"
      ]
     },
     "metadata": {},
     "output_type": "display_data"
    },
    {
     "name": "stdout",
     "output_type": "stream",
     "text": [
      "\n",
      "raw_mfcc_train-clean.15.txt\n"
     ]
    },
    {
     "data": {
      "application/vnd.jupyter.widget-view+json": {
       "model_id": "91481f4d70ef4e91be1bb8e72d54bf96",
       "version_major": 2,
       "version_minor": 0
      },
      "text/plain": [
       "HBox(children=(IntProgress(value=0, max=887786), HTML(value='')))"
      ]
     },
     "metadata": {},
     "output_type": "display_data"
    },
    {
     "name": "stdout",
     "output_type": "stream",
     "text": [
      "\n",
      "raw_mfcc_train-clean.16.txt\n"
     ]
    },
    {
     "data": {
      "application/vnd.jupyter.widget-view+json": {
       "model_id": "49ada1bc503b407b8f82b121bb8ca5aa",
       "version_major": 2,
       "version_minor": 0
      },
      "text/plain": [
       "HBox(children=(IntProgress(value=0, max=940958), HTML(value='')))"
      ]
     },
     "metadata": {},
     "output_type": "display_data"
    },
    {
     "name": "stdout",
     "output_type": "stream",
     "text": [
      "\n",
      "raw_mfcc_train-clean.17.txt\n"
     ]
    },
    {
     "data": {
      "application/vnd.jupyter.widget-view+json": {
       "model_id": "24ade954fc904ee981e449c045f64dec",
       "version_major": 2,
       "version_minor": 0
      },
      "text/plain": [
       "HBox(children=(IntProgress(value=0, max=926396), HTML(value='')))"
      ]
     },
     "metadata": {},
     "output_type": "display_data"
    },
    {
     "name": "stdout",
     "output_type": "stream",
     "text": [
      "\n",
      "raw_mfcc_train-clean.18.txt\n"
     ]
    },
    {
     "data": {
      "application/vnd.jupyter.widget-view+json": {
       "model_id": "8e6fcc13faf04df6940361b8d9e616a3",
       "version_major": 2,
       "version_minor": 0
      },
      "text/plain": [
       "HBox(children=(IntProgress(value=0, max=883262), HTML(value='')))"
      ]
     },
     "metadata": {},
     "output_type": "display_data"
    },
    {
     "name": "stdout",
     "output_type": "stream",
     "text": [
      "\n",
      "raw_mfcc_train-clean.19.txt\n"
     ]
    },
    {
     "data": {
      "application/vnd.jupyter.widget-view+json": {
       "model_id": "e579ccd4fa93432f917ae17fb3cf208a",
       "version_major": 2,
       "version_minor": 0
      },
      "text/plain": [
       "HBox(children=(IntProgress(value=0, max=923999), HTML(value='')))"
      ]
     },
     "metadata": {},
     "output_type": "display_data"
    },
    {
     "name": "stdout",
     "output_type": "stream",
     "text": [
      "\n",
      "raw_mfcc_train-clean.2.txt\n"
     ]
    },
    {
     "data": {
      "application/vnd.jupyter.widget-view+json": {
       "model_id": "57ca3d0cc7224e5e8e2101e0b11373ee",
       "version_major": 2,
       "version_minor": 0
      },
      "text/plain": [
       "HBox(children=(IntProgress(value=0, max=818734), HTML(value='')))"
      ]
     },
     "metadata": {},
     "output_type": "display_data"
    },
    {
     "name": "stdout",
     "output_type": "stream",
     "text": [
      "\n",
      "raw_mfcc_train-clean.20.txt\n"
     ]
    },
    {
     "data": {
      "application/vnd.jupyter.widget-view+json": {
       "model_id": "0768294715834a1e9e38c774b4e2ff14",
       "version_major": 2,
       "version_minor": 0
      },
      "text/plain": [
       "HBox(children=(IntProgress(value=0, max=913211), HTML(value='')))"
      ]
     },
     "metadata": {},
     "output_type": "display_data"
    },
    {
     "name": "stdout",
     "output_type": "stream",
     "text": [
      "\n",
      "raw_mfcc_train-clean.21.txt\n"
     ]
    },
    {
     "data": {
      "application/vnd.jupyter.widget-view+json": {
       "model_id": "3158f07e697645bdb2111d8e944093e8",
       "version_major": 2,
       "version_minor": 0
      },
      "text/plain": [
       "HBox(children=(IntProgress(value=0, max=905699), HTML(value='')))"
      ]
     },
     "metadata": {},
     "output_type": "display_data"
    },
    {
     "name": "stdout",
     "output_type": "stream",
     "text": [
      "\n",
      "raw_mfcc_train-clean.22.txt\n"
     ]
    },
    {
     "data": {
      "application/vnd.jupyter.widget-view+json": {
       "model_id": "cb4003bb70794c42a7eba0bca7d82269",
       "version_major": 2,
       "version_minor": 0
      },
      "text/plain": [
       "HBox(children=(IntProgress(value=0, max=901689), HTML(value='')))"
      ]
     },
     "metadata": {},
     "output_type": "display_data"
    },
    {
     "name": "stdout",
     "output_type": "stream",
     "text": [
      "\n"
     ]
    }
   ],
   "source": [
    "manage_dataset('train')"
   ]
  },
  {
   "cell_type": "code",
   "execution_count": 23,
   "metadata": {},
   "outputs": [
    {
     "name": "stdout",
     "output_type": "stream",
     "text": [
      "raw_mfcc_test-clean.1.txt\n"
     ]
    },
    {
     "data": {
      "application/vnd.jupyter.widget-view+json": {
       "model_id": "9622e28c23df474eb74cd0c05c8ca5de",
       "version_major": 2,
       "version_minor": 0
      },
      "text/plain": [
       "HBox(children=(IntProgress(value=0, max=50367), HTML(value='')))"
      ]
     },
     "metadata": {},
     "output_type": "display_data"
    },
    {
     "name": "stdout",
     "output_type": "stream",
     "text": [
      "\n",
      "raw_mfcc_test-clean.10.txt\n"
     ]
    },
    {
     "data": {
      "application/vnd.jupyter.widget-view+json": {
       "model_id": "17f48e99a24e4b74b224c0ad0f1f7bb2",
       "version_major": 2,
       "version_minor": 0
      },
      "text/plain": [
       "HBox(children=(IntProgress(value=0, max=51449), HTML(value='')))"
      ]
     },
     "metadata": {},
     "output_type": "display_data"
    },
    {
     "name": "stdout",
     "output_type": "stream",
     "text": [
      "\n",
      "raw_mfcc_test-clean.11.txt\n"
     ]
    },
    {
     "data": {
      "application/vnd.jupyter.widget-view+json": {
       "model_id": "2362165c7c614daaa6ae367bbef31b61",
       "version_major": 2,
       "version_minor": 0
      },
      "text/plain": [
       "HBox(children=(IntProgress(value=0, max=31684), HTML(value='')))"
      ]
     },
     "metadata": {},
     "output_type": "display_data"
    },
    {
     "name": "stdout",
     "output_type": "stream",
     "text": [
      "\n",
      "raw_mfcc_test-clean.12.txt\n"
     ]
    },
    {
     "data": {
      "application/vnd.jupyter.widget-view+json": {
       "model_id": "65380db777ea4ef88d1de8e72dd38a1b",
       "version_major": 2,
       "version_minor": 0
      },
      "text/plain": [
       "HBox(children=(IntProgress(value=0, max=41922), HTML(value='')))"
      ]
     },
     "metadata": {},
     "output_type": "display_data"
    },
    {
     "name": "stdout",
     "output_type": "stream",
     "text": [
      "\n",
      "raw_mfcc_test-clean.13.txt\n"
     ]
    },
    {
     "data": {
      "application/vnd.jupyter.widget-view+json": {
       "model_id": "d43f52f72b2e44268223a81dcbdc8f75",
       "version_major": 2,
       "version_minor": 0
      },
      "text/plain": [
       "HBox(children=(IntProgress(value=0, max=32778), HTML(value='')))"
      ]
     },
     "metadata": {},
     "output_type": "display_data"
    },
    {
     "name": "stdout",
     "output_type": "stream",
     "text": [
      "\n",
      "raw_mfcc_test-clean.14.txt\n"
     ]
    },
    {
     "data": {
      "application/vnd.jupyter.widget-view+json": {
       "model_id": "ea3a9ea8f16d4a888b30214e80b3f289",
       "version_major": 2,
       "version_minor": 0
      },
      "text/plain": [
       "HBox(children=(IntProgress(value=0, max=62984), HTML(value='')))"
      ]
     },
     "metadata": {},
     "output_type": "display_data"
    },
    {
     "name": "stdout",
     "output_type": "stream",
     "text": [
      "\n",
      "raw_mfcc_test-clean.15.txt\n"
     ]
    },
    {
     "data": {
      "application/vnd.jupyter.widget-view+json": {
       "model_id": "46fa5e24813645bc9d604ec1a289cc2f",
       "version_major": 2,
       "version_minor": 0
      },
      "text/plain": [
       "HBox(children=(IntProgress(value=0, max=57546), HTML(value='')))"
      ]
     },
     "metadata": {},
     "output_type": "display_data"
    },
    {
     "name": "stdout",
     "output_type": "stream",
     "text": [
      "\n",
      "raw_mfcc_test-clean.16.txt\n"
     ]
    },
    {
     "data": {
      "application/vnd.jupyter.widget-view+json": {
       "model_id": "1db854c14b2b4f588102922908532221",
       "version_major": 2,
       "version_minor": 0
      },
      "text/plain": [
       "HBox(children=(IntProgress(value=0, max=62273), HTML(value='')))"
      ]
     },
     "metadata": {},
     "output_type": "display_data"
    },
    {
     "name": "stdout",
     "output_type": "stream",
     "text": [
      "\n",
      "raw_mfcc_test-clean.17.txt\n"
     ]
    },
    {
     "data": {
      "application/vnd.jupyter.widget-view+json": {
       "model_id": "8c4e9f68d6b14917932c78b787efc9c0",
       "version_major": 2,
       "version_minor": 0
      },
      "text/plain": [
       "HBox(children=(IntProgress(value=0, max=73534), HTML(value='')))"
      ]
     },
     "metadata": {},
     "output_type": "display_data"
    },
    {
     "name": "stdout",
     "output_type": "stream",
     "text": [
      "\n",
      "raw_mfcc_test-clean.18.txt\n"
     ]
    },
    {
     "data": {
      "application/vnd.jupyter.widget-view+json": {
       "model_id": "f6ba3ed0826e44468a9421291409a740",
       "version_major": 2,
       "version_minor": 0
      },
      "text/plain": [
       "HBox(children=(IntProgress(value=0, max=31237), HTML(value='')))"
      ]
     },
     "metadata": {},
     "output_type": "display_data"
    },
    {
     "name": "stdout",
     "output_type": "stream",
     "text": [
      "\n",
      "raw_mfcc_test-clean.19.txt\n"
     ]
    },
    {
     "data": {
      "application/vnd.jupyter.widget-view+json": {
       "model_id": "ed897f5dc63b4d54adc7da302eb8f7e4",
       "version_major": 2,
       "version_minor": 0
      },
      "text/plain": [
       "HBox(children=(IntProgress(value=0, max=42118), HTML(value='')))"
      ]
     },
     "metadata": {},
     "output_type": "display_data"
    },
    {
     "name": "stdout",
     "output_type": "stream",
     "text": [
      "\n",
      "raw_mfcc_test-clean.2.txt\n"
     ]
    },
    {
     "data": {
      "application/vnd.jupyter.widget-view+json": {
       "model_id": "50565355ace44c429b293e04d4a63b60",
       "version_major": 2,
       "version_minor": 0
      },
      "text/plain": [
       "HBox(children=(IntProgress(value=0, max=70153), HTML(value='')))"
      ]
     },
     "metadata": {},
     "output_type": "display_data"
    },
    {
     "name": "stdout",
     "output_type": "stream",
     "text": [
      "\n",
      "raw_mfcc_test-clean.20.txt\n"
     ]
    },
    {
     "data": {
      "application/vnd.jupyter.widget-view+json": {
       "model_id": "39352f74d2fb4e6eb37f3365637382be",
       "version_major": 2,
       "version_minor": 0
      },
      "text/plain": [
       "HBox(children=(IntProgress(value=0, max=49174), HTML(value='')))"
      ]
     },
     "metadata": {},
     "output_type": "display_data"
    },
    {
     "name": "stdout",
     "output_type": "stream",
     "text": [
      "\n",
      "raw_mfcc_test-clean.21.txt\n"
     ]
    },
    {
     "data": {
      "application/vnd.jupyter.widget-view+json": {
       "model_id": "b49d6fc5d369419aacfb0e9ffcd87b25",
       "version_major": 2,
       "version_minor": 0
      },
      "text/plain": [
       "HBox(children=(IntProgress(value=0, max=48685), HTML(value='')))"
      ]
     },
     "metadata": {},
     "output_type": "display_data"
    },
    {
     "name": "stdout",
     "output_type": "stream",
     "text": [
      "\n",
      "raw_mfcc_test-clean.23.txt\n"
     ]
    },
    {
     "data": {
      "application/vnd.jupyter.widget-view+json": {
       "model_id": "d4d099be28964ba2b9a52ab1508c74df",
       "version_major": 2,
       "version_minor": 0
      },
      "text/plain": [
       "HBox(children=(IntProgress(value=0, max=31933), HTML(value='')))"
      ]
     },
     "metadata": {},
     "output_type": "display_data"
    },
    {
     "name": "stdout",
     "output_type": "stream",
     "text": [
      "\n",
      "raw_mfcc_test-clean.24.txt\n"
     ]
    },
    {
     "data": {
      "application/vnd.jupyter.widget-view+json": {
       "model_id": "94b13323fa234416964de66eae94679b",
       "version_major": 2,
       "version_minor": 0
      },
      "text/plain": [
       "HBox(children=(IntProgress(value=0, max=42084), HTML(value='')))"
      ]
     },
     "metadata": {},
     "output_type": "display_data"
    },
    {
     "name": "stdout",
     "output_type": "stream",
     "text": [
      "\n",
      "raw_mfcc_test-clean.25.txt\n"
     ]
    },
    {
     "data": {
      "application/vnd.jupyter.widget-view+json": {
       "model_id": "6cfe735ea0b34d4a8ea851f4e9dbd0f5",
       "version_major": 2,
       "version_minor": 0
      },
      "text/plain": [
       "HBox(children=(IntProgress(value=0, max=60611), HTML(value='')))"
      ]
     },
     "metadata": {},
     "output_type": "display_data"
    },
    {
     "name": "stdout",
     "output_type": "stream",
     "text": [
      "\n",
      "raw_mfcc_test-clean.26.txt\n"
     ]
    },
    {
     "data": {
      "application/vnd.jupyter.widget-view+json": {
       "model_id": "e3d8d8445ba948309d96b80405b76eb7",
       "version_major": 2,
       "version_minor": 0
      },
      "text/plain": [
       "HBox(children=(IntProgress(value=0, max=36653), HTML(value='')))"
      ]
     },
     "metadata": {},
     "output_type": "display_data"
    },
    {
     "name": "stdout",
     "output_type": "stream",
     "text": [
      "\n",
      "raw_mfcc_test-clean.27.txt\n"
     ]
    },
    {
     "data": {
      "application/vnd.jupyter.widget-view+json": {
       "model_id": "b4461e7e3af44cfdb4dbf504b5c8375e",
       "version_major": 2,
       "version_minor": 0
      },
      "text/plain": [
       "HBox(children=(IntProgress(value=0, max=29219), HTML(value='')))"
      ]
     },
     "metadata": {},
     "output_type": "display_data"
    },
    {
     "name": "stdout",
     "output_type": "stream",
     "text": [
      "\n",
      "raw_mfcc_test-clean.28.txt\n"
     ]
    },
    {
     "data": {
      "application/vnd.jupyter.widget-view+json": {
       "model_id": "c3ef30d5c61c4fa08e9d61dfe8173a9c",
       "version_major": 2,
       "version_minor": 0
      },
      "text/plain": [
       "HBox(children=(IntProgress(value=0, max=42264), HTML(value='')))"
      ]
     },
     "metadata": {},
     "output_type": "display_data"
    },
    {
     "name": "stdout",
     "output_type": "stream",
     "text": [
      "\n",
      "raw_mfcc_test-clean.29.txt\n"
     ]
    },
    {
     "data": {
      "application/vnd.jupyter.widget-view+json": {
       "model_id": "e87617b0a6c84a99aca026d3fdc3898e",
       "version_major": 2,
       "version_minor": 0
      },
      "text/plain": [
       "HBox(children=(IntProgress(value=0, max=34218), HTML(value='')))"
      ]
     },
     "metadata": {},
     "output_type": "display_data"
    },
    {
     "name": "stdout",
     "output_type": "stream",
     "text": [
      "\n",
      "raw_mfcc_test-clean.3.txt\n"
     ]
    },
    {
     "data": {
      "application/vnd.jupyter.widget-view+json": {
       "model_id": "f7475e7c19684e7b96758b57f1f38430",
       "version_major": 2,
       "version_minor": 0
      },
      "text/plain": [
       "HBox(children=(IntProgress(value=0, max=58537), HTML(value='')))"
      ]
     },
     "metadata": {},
     "output_type": "display_data"
    },
    {
     "name": "stdout",
     "output_type": "stream",
     "text": [
      "\n",
      "raw_mfcc_test-clean.30.txt\n"
     ]
    },
    {
     "data": {
      "application/vnd.jupyter.widget-view+json": {
       "model_id": "a6988224d0fe436187227bc4042cf8fe",
       "version_major": 2,
       "version_minor": 0
      },
      "text/plain": [
       "HBox(children=(IntProgress(value=0, max=43866), HTML(value='')))"
      ]
     },
     "metadata": {},
     "output_type": "display_data"
    },
    {
     "name": "stdout",
     "output_type": "stream",
     "text": [
      "\n",
      "raw_mfcc_test-clean.31.txt\n"
     ]
    },
    {
     "data": {
      "application/vnd.jupyter.widget-view+json": {
       "model_id": "43c7af4559434ffda264b616b045b50c",
       "version_major": 2,
       "version_minor": 0
      },
      "text/plain": [
       "HBox(children=(IntProgress(value=0, max=40347), HTML(value='')))"
      ]
     },
     "metadata": {},
     "output_type": "display_data"
    },
    {
     "name": "stdout",
     "output_type": "stream",
     "text": [
      "\n",
      "raw_mfcc_test-clean.32.txt\n"
     ]
    },
    {
     "data": {
      "application/vnd.jupyter.widget-view+json": {
       "model_id": "b6d7de92670b4e9c8f60f242eebf9ae5",
       "version_major": 2,
       "version_minor": 0
      },
      "text/plain": [
       "HBox(children=(IntProgress(value=0, max=48934), HTML(value='')))"
      ]
     },
     "metadata": {},
     "output_type": "display_data"
    },
    {
     "name": "stdout",
     "output_type": "stream",
     "text": [
      "\n",
      "raw_mfcc_test-clean.33.txt\n"
     ]
    },
    {
     "data": {
      "application/vnd.jupyter.widget-view+json": {
       "model_id": "9bdc07d67b684a818c24a2bf8c03948e",
       "version_major": 2,
       "version_minor": 0
      },
      "text/plain": [
       "HBox(children=(IntProgress(value=0, max=47389), HTML(value='')))"
      ]
     },
     "metadata": {},
     "output_type": "display_data"
    },
    {
     "name": "stdout",
     "output_type": "stream",
     "text": [
      "\n",
      "raw_mfcc_test-clean.34.txt\n"
     ]
    },
    {
     "data": {
      "application/vnd.jupyter.widget-view+json": {
       "model_id": "f4726e7beff54e858e11b9315cb8fcd0",
       "version_major": 2,
       "version_minor": 0
      },
      "text/plain": [
       "HBox(children=(IntProgress(value=0, max=41098), HTML(value='')))"
      ]
     },
     "metadata": {},
     "output_type": "display_data"
    },
    {
     "name": "stdout",
     "output_type": "stream",
     "text": [
      "\n",
      "raw_mfcc_test-clean.35.txt\n"
     ]
    },
    {
     "data": {
      "application/vnd.jupyter.widget-view+json": {
       "model_id": "7765e842452d463abbcbeaed3d508301",
       "version_major": 2,
       "version_minor": 0
      },
      "text/plain": [
       "HBox(children=(IntProgress(value=0, max=78758), HTML(value='')))"
      ]
     },
     "metadata": {},
     "output_type": "display_data"
    },
    {
     "name": "stdout",
     "output_type": "stream",
     "text": [
      "\n",
      "raw_mfcc_test-clean.37.txt\n"
     ]
    },
    {
     "data": {
      "application/vnd.jupyter.widget-view+json": {
       "model_id": "5c30f797bf2d49b19e90ecd0f504f840",
       "version_major": 2,
       "version_minor": 0
      },
      "text/plain": [
       "HBox(children=(IntProgress(value=0, max=42395), HTML(value='')))"
      ]
     },
     "metadata": {},
     "output_type": "display_data"
    },
    {
     "name": "stdout",
     "output_type": "stream",
     "text": [
      "\n",
      "raw_mfcc_test-clean.38.txt\n"
     ]
    },
    {
     "data": {
      "application/vnd.jupyter.widget-view+json": {
       "model_id": "ebf358d9f6a140a98ac98e744688595d",
       "version_major": 2,
       "version_minor": 0
      },
      "text/plain": [
       "HBox(children=(IntProgress(value=0, max=42030), HTML(value='')))"
      ]
     },
     "metadata": {},
     "output_type": "display_data"
    },
    {
     "name": "stdout",
     "output_type": "stream",
     "text": [
      "\n",
      "raw_mfcc_test-clean.39.txt\n"
     ]
    },
    {
     "data": {
      "application/vnd.jupyter.widget-view+json": {
       "model_id": "8d1c55fdc7364a99b309fc7a9e12a7cf",
       "version_major": 2,
       "version_minor": 0
      },
      "text/plain": [
       "HBox(children=(IntProgress(value=0, max=51380), HTML(value='')))"
      ]
     },
     "metadata": {},
     "output_type": "display_data"
    },
    {
     "name": "stdout",
     "output_type": "stream",
     "text": [
      "\n",
      "raw_mfcc_test-clean.4.txt\n"
     ]
    },
    {
     "data": {
      "application/vnd.jupyter.widget-view+json": {
       "model_id": "93e6059e0de2449d9e2fc0d323e3e8b8",
       "version_major": 2,
       "version_minor": 0
      },
      "text/plain": [
       "HBox(children=(IntProgress(value=0, max=51487), HTML(value='')))"
      ]
     },
     "metadata": {},
     "output_type": "display_data"
    },
    {
     "name": "stdout",
     "output_type": "stream",
     "text": [
      "\n",
      "raw_mfcc_test-clean.40.txt\n"
     ]
    },
    {
     "data": {
      "application/vnd.jupyter.widget-view+json": {
       "model_id": "f0c20a70c52c48f39e90677ea7434e8c",
       "version_major": 2,
       "version_minor": 0
      },
      "text/plain": [
       "HBox(children=(IntProgress(value=0, max=53111), HTML(value='')))"
      ]
     },
     "metadata": {},
     "output_type": "display_data"
    },
    {
     "name": "stdout",
     "output_type": "stream",
     "text": [
      "\n",
      "raw_mfcc_test-clean.5.txt\n"
     ]
    },
    {
     "data": {
      "application/vnd.jupyter.widget-view+json": {
       "model_id": "3813a1e3e034488bb9ad530dc57efaeb",
       "version_major": 2,
       "version_minor": 0
      },
      "text/plain": [
       "HBox(children=(IntProgress(value=0, max=58789), HTML(value='')))"
      ]
     },
     "metadata": {},
     "output_type": "display_data"
    },
    {
     "name": "stdout",
     "output_type": "stream",
     "text": [
      "\n",
      "raw_mfcc_test-clean.6.txt\n"
     ]
    },
    {
     "data": {
      "application/vnd.jupyter.widget-view+json": {
       "model_id": "62744dad753a4291ab4db94e8bcc345a",
       "version_major": 2,
       "version_minor": 0
      },
      "text/plain": [
       "HBox(children=(IntProgress(value=0, max=31287), HTML(value='')))"
      ]
     },
     "metadata": {},
     "output_type": "display_data"
    },
    {
     "name": "stdout",
     "output_type": "stream",
     "text": [
      "\n",
      "raw_mfcc_test-clean.7.txt\n"
     ]
    },
    {
     "data": {
      "application/vnd.jupyter.widget-view+json": {
       "model_id": "439c2c5c52154170a704fa4ec0faead8",
       "version_major": 2,
       "version_minor": 0
      },
      "text/plain": [
       "HBox(children=(IntProgress(value=0, max=32697), HTML(value='')))"
      ]
     },
     "metadata": {},
     "output_type": "display_data"
    },
    {
     "name": "stdout",
     "output_type": "stream",
     "text": [
      "\n",
      "raw_mfcc_test-clean.8.txt\n"
     ]
    },
    {
     "data": {
      "application/vnd.jupyter.widget-view+json": {
       "model_id": "ce994368ac134d61920e54bcc450213e",
       "version_major": 2,
       "version_minor": 0
      },
      "text/plain": [
       "HBox(children=(IntProgress(value=0, max=59474), HTML(value='')))"
      ]
     },
     "metadata": {},
     "output_type": "display_data"
    },
    {
     "name": "stdout",
     "output_type": "stream",
     "text": [
      "\n",
      "raw_mfcc_test-clean.9.txt\n"
     ]
    },
    {
     "data": {
      "application/vnd.jupyter.widget-view+json": {
       "model_id": "1904dcb5797548c79d3b56c7d9cf2d36",
       "version_major": 2,
       "version_minor": 0
      },
      "text/plain": [
       "HBox(children=(IntProgress(value=0, max=50945), HTML(value='')))"
      ]
     },
     "metadata": {},
     "output_type": "display_data"
    },
    {
     "name": "stdout",
     "output_type": "stream",
     "text": [
      "\n",
      "raw_mfcc_test-clean.22.txt\n"
     ]
    },
    {
     "data": {
      "application/vnd.jupyter.widget-view+json": {
       "model_id": "2e85593bf8fb4ddb8deef397f750449f",
       "version_major": 2,
       "version_minor": 0
      },
      "text/plain": [
       "HBox(children=(IntProgress(value=0, max=57002), HTML(value='')))"
      ]
     },
     "metadata": {},
     "output_type": "display_data"
    },
    {
     "name": "stdout",
     "output_type": "stream",
     "text": [
      "\n",
      "raw_mfcc_test-clean.36.txt\n"
     ]
    },
    {
     "data": {
      "application/vnd.jupyter.widget-view+json": {
       "model_id": "a44fc510e0bf42a0a949fb8877a2a806",
       "version_major": 2,
       "version_minor": 0
      },
      "text/plain": [
       "HBox(children=(IntProgress(value=0, max=76081), HTML(value='')))"
      ]
     },
     "metadata": {},
     "output_type": "display_data"
    },
    {
     "name": "stdout",
     "output_type": "stream",
     "text": [
      "\n"
     ]
    }
   ],
   "source": [
    "#manage_dataset('test')"
   ]
  },
  {
   "cell_type": "markdown",
   "metadata": {},
   "source": [
    "# Load Dict"
   ]
  },
  {
   "cell_type": "code",
   "execution_count": 35,
   "metadata": {},
   "outputs": [],
   "source": [
    "spk2utt_train = load_obj('spk2utt_train')\n",
    "# spk2utt_test = load_obj('spk2utt_test')\n",
    "timesteps_list = load_obj('timesteps')"
   ]
  },
  {
   "cell_type": "code",
   "execution_count": 28,
   "metadata": {},
   "outputs": [],
   "source": [
    "#spk2utt_train"
   ]
  },
  {
   "cell_type": "code",
   "execution_count": 14,
   "metadata": {},
   "outputs": [],
   "source": [
    "#spk2utt_test"
   ]
  },
  {
   "cell_type": "code",
   "execution_count": null,
   "metadata": {},
   "outputs": [],
   "source": []
  },
  {
   "cell_type": "markdown",
   "metadata": {},
   "source": [
    "# Example MFCC after feature scaling with CMVN"
   ]
  },
  {
   "cell_type": "code",
   "execution_count": 29,
   "metadata": {},
   "outputs": [
    {
     "data": {
      "text/plain": [
       "(1000, 23)"
      ]
     },
     "execution_count": 29,
     "metadata": {},
     "output_type": "execute_result"
    }
   ],
   "source": [
    "example_mfcc = load_obj('1098-133695-0091')\n",
    "example_mfcc.shape"
   ]
  },
  {
   "cell_type": "code",
   "execution_count": 30,
   "metadata": {},
   "outputs": [],
   "source": [
    "def plot_mfcc(mfcc):\n",
    "    plt.figure(figsize=(10, 4))\n",
    "    librosa.display.specshow(mfcc, x_axis='time')\n",
    "    \n",
    "    plt.colorbar()\n",
    "    plt.title('MFCC')\n",
    "    plt.tight_layout()\n",
    "    plt.show()"
   ]
  },
  {
   "cell_type": "code",
   "execution_count": 31,
   "metadata": {},
   "outputs": [
    {
     "data": {
      "image/png": "[encoded data removed]",
      "text/plain": [
       "<Figure size 720x288 with 2 Axes>"
      ]
     },
     "metadata": {
      "needs_background": "light"
     },
     "output_type": "display_data"
    }
   ],
   "source": [
    "plot_mfcc(example_mfcc.T)"
   ]
  },
  {
   "cell_type": "markdown",
   "metadata": {},
   "source": [
    "# Data Analysis"
   ]
  },
  {
   "cell_type": "code",
   "execution_count": 32,
   "metadata": {},
   "outputs": [],
   "source": [
    "class_len = []\n",
    "classes = []\n",
    "\n",
    "for spk in spk2utt_train:\n",
    "    classes.append((spk, len(spk2utt_train[spk])))\n",
    "df = pd.DataFrame(classes, columns=['speaker_id', 'utt_total'])"
   ]
  },
  {
   "cell_type": "code",
   "execution_count": 33,
   "metadata": {
    "scrolled": true
   },
   "outputs": [
    {
     "data": {
      "text/html": [
       "<div>\n",
       "<style scoped>\n",
       "    .dataframe tbody tr th:only-of-type {\n",
       "        vertical-align: middle;\n",
       "    }\n",
       "\n",
       "    .dataframe tbody tr th {\n",
       "        vertical-align: top;\n",
       "    }\n",
       "\n",
       "    .dataframe thead th {\n",
       "        text-align: right;\n",
       "    }\n",
       "</style>\n",
       "<table border=\"1\" class=\"dataframe\">\n",
       "  <thead>\n",
       "    <tr style=\"text-align: right;\">\n",
       "      <th></th>\n",
       "      <th>speaker_id</th>\n",
       "      <th>utt_total</th>\n",
       "    </tr>\n",
       "  </thead>\n",
       "  <tbody>\n",
       "    <tr>\n",
       "      <th>76</th>\n",
       "      <td>7312</td>\n",
       "      <td>26</td>\n",
       "    </tr>\n",
       "    <tr>\n",
       "      <th>140</th>\n",
       "      <td>1992</td>\n",
       "      <td>56</td>\n",
       "    </tr>\n",
       "    <tr>\n",
       "      <th>243</th>\n",
       "      <td>445</td>\n",
       "      <td>60</td>\n",
       "    </tr>\n",
       "    <tr>\n",
       "      <th>229</th>\n",
       "      <td>1183</td>\n",
       "      <td>66</td>\n",
       "    </tr>\n",
       "    <tr>\n",
       "      <th>89</th>\n",
       "      <td>8014</td>\n",
       "      <td>76</td>\n",
       "    </tr>\n",
       "    <tr>\n",
       "      <th>233</th>\n",
       "      <td>4214</td>\n",
       "      <td>81</td>\n",
       "    </tr>\n",
       "    <tr>\n",
       "      <th>161</th>\n",
       "      <td>1040</td>\n",
       "      <td>81</td>\n",
       "    </tr>\n",
       "    <tr>\n",
       "      <th>246</th>\n",
       "      <td>458</td>\n",
       "      <td>82</td>\n",
       "    </tr>\n",
       "    <tr>\n",
       "      <th>178</th>\n",
       "      <td>289</td>\n",
       "      <td>86</td>\n",
       "    </tr>\n",
       "    <tr>\n",
       "      <th>62</th>\n",
       "      <td>6925</td>\n",
       "      <td>86</td>\n",
       "    </tr>\n",
       "    <tr>\n",
       "      <th>108</th>\n",
       "      <td>8580</td>\n",
       "      <td>87</td>\n",
       "    </tr>\n",
       "    <tr>\n",
       "      <th>17</th>\n",
       "      <td>5514</td>\n",
       "      <td>87</td>\n",
       "    </tr>\n",
       "    <tr>\n",
       "      <th>30</th>\n",
       "      <td>6000</td>\n",
       "      <td>88</td>\n",
       "    </tr>\n",
       "    <tr>\n",
       "      <th>198</th>\n",
       "      <td>332</td>\n",
       "      <td>89</td>\n",
       "    </tr>\n",
       "    <tr>\n",
       "      <th>155</th>\n",
       "      <td>2384</td>\n",
       "      <td>90</td>\n",
       "    </tr>\n",
       "    <tr>\n",
       "      <th>165</th>\n",
       "      <td>1098</td>\n",
       "      <td>92</td>\n",
       "    </tr>\n",
       "    <tr>\n",
       "      <th>56</th>\n",
       "      <td>6563</td>\n",
       "      <td>92</td>\n",
       "    </tr>\n",
       "    <tr>\n",
       "      <th>4</th>\n",
       "      <td>4859</td>\n",
       "      <td>93</td>\n",
       "    </tr>\n",
       "    <tr>\n",
       "      <th>153</th>\n",
       "      <td>229</td>\n",
       "      <td>94</td>\n",
       "    </tr>\n",
       "    <tr>\n",
       "      <th>180</th>\n",
       "      <td>2910</td>\n",
       "      <td>95</td>\n",
       "    </tr>\n",
       "    <tr>\n",
       "      <th>224</th>\n",
       "      <td>412</td>\n",
       "      <td>95</td>\n",
       "    </tr>\n",
       "    <tr>\n",
       "      <th>160</th>\n",
       "      <td>1034</td>\n",
       "      <td>96</td>\n",
       "    </tr>\n",
       "    <tr>\n",
       "      <th>29</th>\n",
       "      <td>60</td>\n",
       "      <td>97</td>\n",
       "    </tr>\n",
       "    <tr>\n",
       "      <th>245</th>\n",
       "      <td>4481</td>\n",
       "      <td>97</td>\n",
       "    </tr>\n",
       "    <tr>\n",
       "      <th>48</th>\n",
       "      <td>1355</td>\n",
       "      <td>98</td>\n",
       "    </tr>\n",
       "    <tr>\n",
       "      <th>49</th>\n",
       "      <td>1363</td>\n",
       "      <td>98</td>\n",
       "    </tr>\n",
       "    <tr>\n",
       "      <th>204</th>\n",
       "      <td>3607</td>\n",
       "      <td>98</td>\n",
       "    </tr>\n",
       "    <tr>\n",
       "      <th>209</th>\n",
       "      <td>3807</td>\n",
       "      <td>99</td>\n",
       "    </tr>\n",
       "    <tr>\n",
       "      <th>197</th>\n",
       "      <td>328</td>\n",
       "      <td>99</td>\n",
       "    </tr>\n",
       "    <tr>\n",
       "      <th>24</th>\n",
       "      <td>5778</td>\n",
       "      <td>99</td>\n",
       "    </tr>\n",
       "    <tr>\n",
       "      <th>...</th>\n",
       "      <td>...</td>\n",
       "      <td>...</td>\n",
       "    </tr>\n",
       "    <tr>\n",
       "      <th>0</th>\n",
       "      <td>481</td>\n",
       "      <td>128</td>\n",
       "    </tr>\n",
       "    <tr>\n",
       "      <th>133</th>\n",
       "      <td>1898</td>\n",
       "      <td>128</td>\n",
       "    </tr>\n",
       "    <tr>\n",
       "      <th>110</th>\n",
       "      <td>8629</td>\n",
       "      <td>128</td>\n",
       "    </tr>\n",
       "    <tr>\n",
       "      <th>137</th>\n",
       "      <td>1963</td>\n",
       "      <td>129</td>\n",
       "    </tr>\n",
       "    <tr>\n",
       "      <th>50</th>\n",
       "      <td>1447</td>\n",
       "      <td>129</td>\n",
       "    </tr>\n",
       "    <tr>\n",
       "      <th>119</th>\n",
       "      <td>1594</td>\n",
       "      <td>129</td>\n",
       "    </tr>\n",
       "    <tr>\n",
       "      <th>19</th>\n",
       "      <td>5652</td>\n",
       "      <td>130</td>\n",
       "    </tr>\n",
       "    <tr>\n",
       "      <th>152</th>\n",
       "      <td>2289</td>\n",
       "      <td>130</td>\n",
       "    </tr>\n",
       "    <tr>\n",
       "      <th>240</th>\n",
       "      <td>4406</td>\n",
       "      <td>130</td>\n",
       "    </tr>\n",
       "    <tr>\n",
       "      <th>163</th>\n",
       "      <td>1081</td>\n",
       "      <td>130</td>\n",
       "    </tr>\n",
       "    <tr>\n",
       "      <th>51</th>\n",
       "      <td>1455</td>\n",
       "      <td>131</td>\n",
       "    </tr>\n",
       "    <tr>\n",
       "      <th>70</th>\n",
       "      <td>7190</td>\n",
       "      <td>131</td>\n",
       "    </tr>\n",
       "    <tr>\n",
       "      <th>33</th>\n",
       "      <td>6078</td>\n",
       "      <td>132</td>\n",
       "    </tr>\n",
       "    <tr>\n",
       "      <th>222</th>\n",
       "      <td>4051</td>\n",
       "      <td>133</td>\n",
       "    </tr>\n",
       "    <tr>\n",
       "      <th>55</th>\n",
       "      <td>6531</td>\n",
       "      <td>133</td>\n",
       "    </tr>\n",
       "    <tr>\n",
       "      <th>135</th>\n",
       "      <td>1926</td>\n",
       "      <td>133</td>\n",
       "    </tr>\n",
       "    <tr>\n",
       "      <th>18</th>\n",
       "      <td>5561</td>\n",
       "      <td>134</td>\n",
       "    </tr>\n",
       "    <tr>\n",
       "      <th>75</th>\n",
       "      <td>7302</td>\n",
       "      <td>135</td>\n",
       "    </tr>\n",
       "    <tr>\n",
       "      <th>116</th>\n",
       "      <td>1502</td>\n",
       "      <td>136</td>\n",
       "    </tr>\n",
       "    <tr>\n",
       "      <th>12</th>\n",
       "      <td>5339</td>\n",
       "      <td>137</td>\n",
       "    </tr>\n",
       "    <tr>\n",
       "      <th>228</th>\n",
       "      <td>118</td>\n",
       "      <td>137</td>\n",
       "    </tr>\n",
       "    <tr>\n",
       "      <th>132</th>\n",
       "      <td>1867</td>\n",
       "      <td>137</td>\n",
       "    </tr>\n",
       "    <tr>\n",
       "      <th>173</th>\n",
       "      <td>27</td>\n",
       "      <td>138</td>\n",
       "    </tr>\n",
       "    <tr>\n",
       "      <th>45</th>\n",
       "      <td>125</td>\n",
       "      <td>138</td>\n",
       "    </tr>\n",
       "    <tr>\n",
       "      <th>232</th>\n",
       "      <td>4195</td>\n",
       "      <td>140</td>\n",
       "    </tr>\n",
       "    <tr>\n",
       "      <th>91</th>\n",
       "      <td>8063</td>\n",
       "      <td>155</td>\n",
       "    </tr>\n",
       "    <tr>\n",
       "      <th>184</th>\n",
       "      <td>2989</td>\n",
       "      <td>155</td>\n",
       "    </tr>\n",
       "    <tr>\n",
       "      <th>74</th>\n",
       "      <td>730</td>\n",
       "      <td>161</td>\n",
       "    </tr>\n",
       "    <tr>\n",
       "      <th>218</th>\n",
       "      <td>4014</td>\n",
       "      <td>165</td>\n",
       "    </tr>\n",
       "    <tr>\n",
       "      <th>146</th>\n",
       "      <td>211</td>\n",
       "      <td>166</td>\n",
       "    </tr>\n",
       "  </tbody>\n",
       "</table>\n",
       "<p>251 rows × 2 columns</p>\n",
       "</div>"
      ],
      "text/plain": [
       "    speaker_id  utt_total\n",
       "76        7312         26\n",
       "140       1992         56\n",
       "243        445         60\n",
       "229       1183         66\n",
       "89        8014         76\n",
       "233       4214         81\n",
       "161       1040         81\n",
       "246        458         82\n",
       "178        289         86\n",
       "62        6925         86\n",
       "108       8580         87\n",
       "17        5514         87\n",
       "30        6000         88\n",
       "198        332         89\n",
       "155       2384         90\n",
       "165       1098         92\n",
       "56        6563         92\n",
       "4         4859         93\n",
       "153        229         94\n",
       "180       2910         95\n",
       "224        412         95\n",
       "160       1034         96\n",
       "29          60         97\n",
       "245       4481         97\n",
       "48        1355         98\n",
       "49        1363         98\n",
       "204       3607         98\n",
       "209       3807         99\n",
       "197        328         99\n",
       "24        5778         99\n",
       "..         ...        ...\n",
       "0          481        128\n",
       "133       1898        128\n",
       "110       8629        128\n",
       "137       1963        129\n",
       "50        1447        129\n",
       "119       1594        129\n",
       "19        5652        130\n",
       "152       2289        130\n",
       "240       4406        130\n",
       "163       1081        130\n",
       "51        1455        131\n",
       "70        7190        131\n",
       "33        6078        132\n",
       "222       4051        133\n",
       "55        6531        133\n",
       "135       1926        133\n",
       "18        5561        134\n",
       "75        7302        135\n",
       "116       1502        136\n",
       "12        5339        137\n",
       "228        118        137\n",
       "132       1867        137\n",
       "173         27        138\n",
       "45         125        138\n",
       "232       4195        140\n",
       "91        8063        155\n",
       "184       2989        155\n",
       "74         730        161\n",
       "218       4014        165\n",
       "146        211        166\n",
       "\n",
       "[251 rows x 2 columns]"
      ]
     },
     "execution_count": 33,
     "metadata": {},
     "output_type": "execute_result"
    }
   ],
   "source": [
    "df.sort_values('utt_total')"
   ]
  },
  {
   "cell_type": "code",
   "execution_count": 41,
   "metadata": {},
   "outputs": [
    {
     "name": "stdout",
     "output_type": "stream",
     "text": [
      "Number of training data is 28539\n"
     ]
    }
   ],
   "source": [
    "print(\"Number of training data is {}\".format(len(timesteps_list)))"
   ]
  },
  {
   "cell_type": "code",
   "execution_count": 53,
   "metadata": {
    "scrolled": true
   },
   "outputs": [
    {
     "data": {
      "text/plain": [
       "Text(0,0.5,'samples')"
      ]
     },
     "execution_count": 53,
     "metadata": {},
     "output_type": "execute_result"
    },
    {
     "data": {
      "image/png": "[encoded data removed]",
      "text/plain": [
       "<Figure size 432x288 with 1 Axes>"
      ]
     },
     "metadata": {
      "needs_background": "light"
     },
     "output_type": "display_data"
    }
   ],
   "source": [
    "plt.hist(timesteps_list, bins=20)\n",
    "plt.xlabel('number of frames')\n",
    "plt.ylabel('samples')"
   ]
  },
  {
   "cell_type": "markdown",
   "metadata": {},
   "source": [
    "# Prepare Data for training model"
   ]
  },
  {
   "cell_type": "code",
   "execution_count": 84,
   "metadata": {},
   "outputs": [],
   "source": [
    "spk2labels = {}\n",
    "num_speakers = 0\n",
    "for spk in sorted(spk2utt_train.keys()):\n",
    "    spk2labels[spk] = num_speakers\n",
    "    num_speakers += 1"
   ]
  },
  {
   "cell_type": "code",
   "execution_count": 85,
   "metadata": {},
   "outputs": [],
   "source": [
    "#spk2labels"
   ]
  },
  {
   "cell_type": "code",
   "execution_count": 86,
   "metadata": {},
   "outputs": [],
   "source": [
    "#spk2utt_train"
   ]
  },
  {
   "cell_type": "markdown",
   "metadata": {},
   "source": [
    "Prepare X and y"
   ]
  },
  {
   "cell_type": "code",
   "execution_count": 87,
   "metadata": {},
   "outputs": [],
   "source": [
    "X_list = []\n",
    "y_list = []\n",
    "labels = {}\n",
    "for spk in spk2utt_train.keys():\n",
    "    X_list.extend(spk2utt_train[spk])\n",
    "    label = spk2labels[spk]\n",
    "    for i, uttid in enumerate(spk2utt_train[spk]):\n",
    "        y_list.append(label)\n",
    "        labels[uttid] = label"
   ]
  },
  {
   "cell_type": "code",
   "execution_count": 88,
   "metadata": {},
   "outputs": [],
   "source": [
    "#X_list[1520:1525]"
   ]
  },
  {
   "cell_type": "code",
   "execution_count": 89,
   "metadata": {},
   "outputs": [],
   "source": [
    "#y_list[1520:1525]"
   ]
  },
  {
   "cell_type": "code",
   "execution_count": 90,
   "metadata": {},
   "outputs": [
    {
     "data": {
      "text/plain": [
       "{'481-123720-0012': 137,\n",
       " '481-123720-0013': 137,\n",
       " '481-123720-0014': 137,\n",
       " '481-123720-0015': 137,\n",
       " '481-123720-0016': 137,\n",
       " '481-123720-0017': 137,\n",
       " '481-123720-0018': 137,\n",
       " '481-123720-0019': 137,\n",
       " '481-123720-0020': 137,\n",
       " '481-123720-0021': 137,\n",
       " '481-123720-0022': 137,\n",
       " '481-123720-0023': 137,\n",
       " '481-123720-0024': 137,\n",
       " '481-123720-0025': 137,\n",
       " '481-123720-0026': 137,\n",
       " '481-123720-0027': 137,\n",
       " '481-123720-0028': 137,\n",
       " '481-123720-0029': 137,\n",
       " '481-123720-0030': 137,\n",
       " '481-123720-0031': 137,\n",
       " '481-123720-0032': 137,\n",
       " '481-123720-0033': 137,\n",
       " '481-123720-0034': 137,\n",
       " '481-123720-0035': 137,\n",
       " '481-123720-0036': 137,\n",
       " '481-123720-0037': 137,\n",
       " '481-123720-0038': 137,\n",
       " '481-123720-0039': 137,\n",
       " '481-123720-0040': 137,\n",
       " '481-123720-0041': 137,\n",
       " '481-123720-0042': 137,\n",
       " '481-123720-0043': 137,\n",
       " '481-123720-0044': 137,\n",
       " '481-123720-0045': 137,\n",
       " '481-123720-0046': 137,\n",
       " '481-123720-0047': 137,\n",
       " '481-123720-0048': 137,\n",
       " '481-123720-0049': 137,\n",
       " '481-123720-0050': 137,\n",
       " '481-123720-0051': 137,\n",
       " '481-123720-0052': 137,\n",
       " '481-123720-0053': 137,\n",
       " '481-123720-0054': 137,\n",
       " '481-123720-0055': 137,\n",
       " '481-123720-0056': 137,\n",
       " '481-123720-0057': 137,\n",
       " '481-123720-0058': 137,\n",
       " '481-123720-0059': 137,\n",
       " '481-123720-0060': 137,\n",
       " '481-123720-0061': 137,\n",
       " '481-123720-0062': 137,\n",
       " '481-123720-0063': 137,\n",
       " '481-123720-0064': 137,\n",
       " '481-123720-0065': 137,\n",
       " '481-123720-0066': 137,\n",
       " '481-123720-0067': 137,\n",
       " '481-123720-0068': 137,\n",
       " '481-123720-0069': 137,\n",
       " '481-123720-0070': 137,\n",
       " '481-123720-0071': 137,\n",
       " '481-123720-0072': 137,\n",
       " '481-123720-0073': 137,\n",
       " '481-123720-0074': 137,\n",
       " '481-123720-0075': 137,\n",
       " '481-123720-0076': 137,\n",
       " '481-123720-0077': 137,\n",
       " '481-123720-0078': 137,\n",
       " '481-123720-0079': 137,\n",
       " '481-123720-0080': 137,\n",
       " '481-123720-0081': 137,\n",
       " '481-123720-0082': 137,\n",
       " '481-123720-0083': 137,\n",
       " '481-123720-0084': 137,\n",
       " '481-123720-0085': 137,\n",
       " '481-123719-0000': 137,\n",
       " '481-123719-0001': 137,\n",
       " '481-123719-0002': 137,\n",
       " '481-123719-0003': 137,\n",
       " '481-123719-0004': 137,\n",
       " '481-123719-0005': 137,\n",
       " '481-123719-0006': 137,\n",
       " '481-123719-0007': 137,\n",
       " '481-123719-0008': 137,\n",
       " '481-123719-0009': 137,\n",
       " '481-123719-0010': 137,\n",
       " '481-123719-0011': 137,\n",
       " '481-123719-0012': 137,\n",
       " '481-123719-0013': 137,\n",
       " '481-123719-0014': 137,\n",
       " '481-123719-0015': 137,\n",
       " '481-123719-0016': 137,\n",
       " '481-123719-0017': 137,\n",
       " '481-123719-0018': 137,\n",
       " '481-123719-0019': 137,\n",
       " '481-123719-0020': 137,\n",
       " '481-123719-0021': 137,\n",
       " '481-123719-0022': 137,\n",
       " '481-123719-0023': 137,\n",
       " '481-123719-0024': 137,\n",
       " '481-123719-0025': 137,\n",
       " '481-123719-0026': 137,\n",
       " '481-123719-0027': 137,\n",
       " '481-123719-0028': 137,\n",
       " '481-123719-0029': 137,\n",
       " '481-123719-0030': 137,\n",
       " '481-123719-0031': 137,\n",
       " '481-123719-0032': 137,\n",
       " '481-123719-0033': 137,\n",
       " '481-123719-0034': 137,\n",
       " '481-123719-0035': 137,\n",
       " '481-123719-0036': 137,\n",
       " '481-123719-0037': 137,\n",
       " '481-123719-0038': 137,\n",
       " '481-123719-0039': 137,\n",
       " '481-123719-0040': 137,\n",
       " '481-123719-0041': 137,\n",
       " '481-123720-0000': 137,\n",
       " '481-123720-0001': 137,\n",
       " '481-123720-0002': 137,\n",
       " '481-123720-0003': 137,\n",
       " '481-123720-0004': 137,\n",
       " '481-123720-0005': 137,\n",
       " '481-123720-0006': 137,\n",
       " '481-123720-0007': 137,\n",
       " '481-123720-0008': 137,\n",
       " '481-123720-0009': 137,\n",
       " '481-123720-0010': 137,\n",
       " '481-123720-0011': 137,\n",
       " '4813-248638-0000': 138,\n",
       " '4813-248638-0001': 138,\n",
       " '4813-248638-0002': 138,\n",
       " '4813-248638-0003': 138,\n",
       " '4813-248638-0004': 138,\n",
       " '4813-248638-0005': 138,\n",
       " '4813-248638-0006': 138,\n",
       " '4813-248638-0007': 138,\n",
       " '4813-248638-0008': 138,\n",
       " '4813-248638-0009': 138,\n",
       " '4813-248638-0010': 138,\n",
       " '4813-248638-0011': 138,\n",
       " '4813-248638-0012': 138,\n",
       " '4813-248638-0013': 138,\n",
       " '4813-248638-0014': 138,\n",
       " '4813-248638-0015': 138,\n",
       " '4813-248638-0016': 138,\n",
       " '4813-248638-0017': 138,\n",
       " '4813-248638-0018': 138,\n",
       " '4813-248638-0019': 138,\n",
       " '4813-248638-0020': 138,\n",
       " '4813-248638-0021': 138,\n",
       " '4813-248638-0022': 138,\n",
       " '4813-248638-0023': 138,\n",
       " '4813-248638-0024': 138,\n",
       " '4813-248638-0025': 138,\n",
       " '4813-248638-0026': 138,\n",
       " '4813-248638-0027': 138,\n",
       " '4813-248638-0028': 138,\n",
       " '4813-248638-0029': 138,\n",
       " '4813-248638-0030': 138,\n",
       " '4813-248638-0031': 138,\n",
       " '4813-248638-0032': 138,\n",
       " '4813-248638-0033': 138,\n",
       " '4813-248638-0034': 138,\n",
       " '4813-248638-0035': 138,\n",
       " '4813-248638-0036': 138,\n",
       " '4813-248638-0037': 138,\n",
       " '4813-248638-0038': 138,\n",
       " '4813-248638-0039': 138,\n",
       " '4813-248638-0040': 138,\n",
       " '4813-248638-0041': 138,\n",
       " '4813-248638-0042': 138,\n",
       " '4813-248638-0043': 138,\n",
       " '4813-248638-0044': 138,\n",
       " '4813-248638-0045': 138,\n",
       " '4813-248638-0046': 138,\n",
       " '4813-248638-0047': 138,\n",
       " '4813-248638-0048': 138,\n",
       " '4813-248638-0049': 138,\n",
       " '4813-248638-0050': 138,\n",
       " '4813-248638-0051': 138,\n",
       " '4813-248638-0052': 138,\n",
       " '4813-248638-0053': 138,\n",
       " '4813-248638-0054': 138,\n",
       " '4813-248638-0055': 138,\n",
       " '4813-248641-0000': 138,\n",
       " '4813-248641-0001': 138,\n",
       " '4813-248641-0002': 138,\n",
       " '4813-248641-0003': 138,\n",
       " '4813-248641-0004': 138,\n",
       " '4813-248641-0005': 138,\n",
       " '4813-248641-0006': 138,\n",
       " '4813-248641-0007': 138,\n",
       " '4813-248641-0008': 138,\n",
       " '4813-248641-0009': 138,\n",
       " '4813-248641-0010': 138,\n",
       " '4813-248641-0011': 138,\n",
       " '4813-248641-0012': 138,\n",
       " '4813-248641-0013': 138,\n",
       " '4813-248641-0014': 138,\n",
       " '4813-248641-0015': 138,\n",
       " '4813-248641-0016': 138,\n",
       " '4813-248641-0017': 138,\n",
       " '4813-248641-0018': 138,\n",
       " '4813-248641-0019': 138,\n",
       " '4813-248641-0020': 138,\n",
       " '4813-248641-0021': 138,\n",
       " '4813-248641-0022': 138,\n",
       " '4813-248641-0023': 138,\n",
       " '4813-248641-0024': 138,\n",
       " '4813-248641-0025': 138,\n",
       " '4813-248641-0026': 138,\n",
       " '4813-248641-0027': 138,\n",
       " '4813-248641-0028': 138,\n",
       " '4813-248641-0029': 138,\n",
       " '4813-248641-0030': 138,\n",
       " '4813-248641-0031': 138,\n",
       " '4813-248641-0032': 138,\n",
       " '4813-248641-0033': 138,\n",
       " '4813-248641-0034': 138,\n",
       " '4813-248641-0035': 138,\n",
       " '4813-248641-0036': 138,\n",
       " '4813-248641-0037': 138,\n",
       " '4813-248641-0038': 138,\n",
       " '4813-248641-0039': 138,\n",
       " '4813-248641-0040': 138,\n",
       " '4813-248641-0041': 138,\n",
       " '4813-248641-0042': 138,\n",
       " '4813-248641-0043': 138,\n",
       " '4813-248641-0044': 138,\n",
       " '4813-248641-0045': 138,\n",
       " '4813-248641-0046': 138,\n",
       " '4813-248641-0047': 138,\n",
       " '4813-248641-0048': 138,\n",
       " '4813-248641-0049': 138,\n",
       " '4813-248641-0050': 138,\n",
       " '4813-248641-0051': 138,\n",
       " '4813-248641-0052': 138,\n",
       " '4813-248641-0053': 138,\n",
       " '4813-248641-0054': 138,\n",
       " '4830-25898-0000': 139,\n",
       " '4830-25898-0001': 139,\n",
       " '4830-25898-0002': 139,\n",
       " '4830-25898-0003': 139,\n",
       " '4830-25898-0004': 139,\n",
       " '4830-25898-0005': 139,\n",
       " '4830-25898-0006': 139,\n",
       " '4830-25898-0007': 139,\n",
       " '4830-25898-0008': 139,\n",
       " '4830-25898-0009': 139,\n",
       " '4830-25898-0010': 139,\n",
       " '4830-25898-0011': 139,\n",
       " '4830-25898-0012': 139,\n",
       " '4830-25898-0013': 139,\n",
       " '4830-25898-0014': 139,\n",
       " '4830-25898-0015': 139,\n",
       " '4830-25898-0016': 139,\n",
       " '4830-25898-0017': 139,\n",
       " '4830-25898-0018': 139,\n",
       " '4830-25898-0019': 139,\n",
       " '4830-25898-0020': 139,\n",
       " '4830-25898-0021': 139,\n",
       " '4830-25898-0022': 139,\n",
       " '4830-25898-0023': 139,\n",
       " '4830-25898-0024': 139,\n",
       " '4830-25898-0025': 139,\n",
       " '4830-25898-0026': 139,\n",
       " '4830-25898-0027': 139,\n",
       " '4830-25898-0028': 139,\n",
       " '4830-25898-0029': 139,\n",
       " '4830-25898-0030': 139,\n",
       " '4830-25898-0031': 139,\n",
       " '4830-25898-0032': 139,\n",
       " '4830-25898-0033': 139,\n",
       " '4830-25898-0034': 139,\n",
       " '4830-25898-0035': 139,\n",
       " '4830-25898-0036': 139,\n",
       " '4830-25898-0037': 139,\n",
       " '4830-25898-0038': 139,\n",
       " '4830-25898-0039': 139,\n",
       " '4830-25898-0040': 139,\n",
       " '4830-25898-0041': 139,\n",
       " '4830-25898-0042': 139,\n",
       " '4830-25898-0043': 139,\n",
       " '4830-25898-0044': 139,\n",
       " '4830-25898-0045': 139,\n",
       " '4830-25898-0046': 139,\n",
       " '4830-25898-0047': 139,\n",
       " '4830-25898-0048': 139,\n",
       " '4830-25898-0049': 139,\n",
       " '4830-25898-0050': 139,\n",
       " '4830-25898-0051': 139,\n",
       " '4830-25898-0052': 139,\n",
       " '4830-25898-0053': 139,\n",
       " '4830-25898-0054': 139,\n",
       " '4830-25898-0055': 139,\n",
       " '4830-25904-0000': 139,\n",
       " '4830-25904-0001': 139,\n",
       " '4830-25904-0002': 139,\n",
       " '4830-25904-0003': 139,\n",
       " '4830-25904-0004': 139,\n",
       " '4830-25904-0005': 139,\n",
       " '4830-25904-0006': 139,\n",
       " '4830-25904-0007': 139,\n",
       " '4830-25904-0008': 139,\n",
       " '4830-25904-0009': 139,\n",
       " '4830-25904-0010': 139,\n",
       " '4830-25904-0011': 139,\n",
       " '4830-25904-0012': 139,\n",
       " '4830-25904-0013': 139,\n",
       " '4830-25904-0014': 139,\n",
       " '4830-25904-0015': 139,\n",
       " '4830-25904-0016': 139,\n",
       " '4830-25904-0017': 139,\n",
       " '4830-25904-0018': 139,\n",
       " '4830-25904-0019': 139,\n",
       " '4830-25904-0020': 139,\n",
       " '4830-25904-0021': 139,\n",
       " '4830-25904-0022': 139,\n",
       " '4830-25904-0023': 139,\n",
       " '4830-25904-0024': 139,\n",
       " '4830-25904-0025': 139,\n",
       " '4830-25904-0026': 139,\n",
       " '4830-25904-0027': 139,\n",
       " '4830-25904-0028': 139,\n",
       " '4830-25904-0029': 139,\n",
       " '4830-25904-0030': 139,\n",
       " '4830-25904-0031': 139,\n",
       " '4830-25904-0032': 139,\n",
       " '4830-25904-0033': 139,\n",
       " '4830-25904-0034': 139,\n",
       " '4830-25904-0035': 139,\n",
       " '4830-25904-0036': 139,\n",
       " '4830-25904-0037': 139,\n",
       " '4830-25904-0038': 139,\n",
       " '4830-25904-0039': 139,\n",
       " '4830-25904-0040': 139,\n",
       " '4830-25904-0041': 139,\n",
       " '4830-25904-0042': 139,\n",
       " '4830-25904-0043': 139,\n",
       " '4830-25904-0044': 139,\n",
       " '4830-25904-0045': 139,\n",
       " '4830-25904-0046': 139,\n",
       " '4830-25904-0047': 139,\n",
       " '4830-25904-0048': 139,\n",
       " '4830-25904-0049': 139,\n",
       " '4830-25904-0050': 139,\n",
       " '4853-27670-0000': 140,\n",
       " '4853-27670-0001': 140,\n",
       " '4853-27670-0002': 140,\n",
       " '4853-27670-0003': 140,\n",
       " '4853-27670-0004': 140,\n",
       " '4853-27670-0005': 140,\n",
       " '4853-27670-0006': 140,\n",
       " '4853-27670-0007': 140,\n",
       " '4853-27670-0008': 140,\n",
       " '4853-27670-0009': 140,\n",
       " '4853-27670-0010': 140,\n",
       " '4853-27670-0011': 140,\n",
       " '4853-27670-0012': 140,\n",
       " '4853-27670-0013': 140,\n",
       " '4853-27670-0014': 140,\n",
       " '4853-27670-0015': 140,\n",
       " '4853-27670-0016': 140,\n",
       " '4853-27670-0017': 140,\n",
       " '4853-27670-0018': 140,\n",
       " '4853-27670-0019': 140,\n",
       " '4853-27670-0020': 140,\n",
       " '4853-27670-0021': 140,\n",
       " '4853-27670-0022': 140,\n",
       " '4853-27670-0023': 140,\n",
       " '4853-27670-0024': 140,\n",
       " '4853-27670-0025': 140,\n",
       " '4853-27670-0026': 140,\n",
       " '4853-27670-0027': 140,\n",
       " '4853-27670-0028': 140,\n",
       " '4853-27670-0029': 140,\n",
       " '4853-27670-0030': 140,\n",
       " '4853-27670-0031': 140,\n",
       " '4853-27670-0032': 140,\n",
       " '4853-27670-0033': 140,\n",
       " '4853-27670-0034': 140,\n",
       " '4853-27670-0035': 140,\n",
       " '4853-27670-0036': 140,\n",
       " '4853-27671-0000': 140,\n",
       " '4853-27671-0001': 140,\n",
       " '4853-27671-0002': 140,\n",
       " '4853-27671-0003': 140,\n",
       " '4853-27671-0004': 140,\n",
       " '4853-27671-0005': 140,\n",
       " '4853-27671-0006': 140,\n",
       " '4853-27671-0007': 140,\n",
       " '4853-27671-0008': 140,\n",
       " '4853-27671-0009': 140,\n",
       " '4853-27671-0010': 140,\n",
       " '4853-27671-0011': 140,\n",
       " '4853-27671-0012': 140,\n",
       " '4853-27671-0013': 140,\n",
       " '4853-27671-0014': 140,\n",
       " '4853-27671-0015': 140,\n",
       " '4853-27671-0016': 140,\n",
       " '4853-27671-0017': 140,\n",
       " '4853-27671-0018': 140,\n",
       " '4853-27671-0019': 140,\n",
       " '4853-27671-0020': 140,\n",
       " '4853-27671-0021': 140,\n",
       " '4853-27671-0022': 140,\n",
       " '4853-27671-0023': 140,\n",
       " '4853-27671-0024': 140,\n",
       " '4853-27671-0025': 140,\n",
       " '4853-27671-0026': 140,\n",
       " '4853-27671-0027': 140,\n",
       " '4853-27671-0028': 140,\n",
       " '4853-27671-0029': 140,\n",
       " '4853-27671-0030': 140,\n",
       " '4853-27671-0031': 140,\n",
       " '4853-27671-0032': 140,\n",
       " '4853-27671-0033': 140,\n",
       " '4853-27671-0034': 140,\n",
       " '4853-27671-0035': 140,\n",
       " '4853-27671-0036': 140,\n",
       " '4853-27671-0037': 140,\n",
       " '4853-27671-0038': 140,\n",
       " '4853-27671-0039': 140,\n",
       " '4853-27671-0040': 140,\n",
       " '4853-29413-0000': 140,\n",
       " '4853-29413-0001': 140,\n",
       " '4853-29413-0002': 140,\n",
       " '4853-29413-0003': 140,\n",
       " '4853-29413-0004': 140,\n",
       " '4853-29413-0005': 140,\n",
       " '4853-29413-0006': 140,\n",
       " '4853-29413-0007': 140,\n",
       " '4853-29413-0008': 140,\n",
       " '4853-29413-0009': 140,\n",
       " '4853-29413-0010': 140,\n",
       " '4853-29413-0011': 140,\n",
       " '4853-29413-0012': 140,\n",
       " '4853-29413-0013': 140,\n",
       " '4853-29413-0014': 140,\n",
       " '4853-29413-0015': 140,\n",
       " '4853-29413-0016': 140,\n",
       " '4853-29413-0017': 140,\n",
       " '4853-29413-0018': 140,\n",
       " '4853-29413-0019': 140,\n",
       " '4853-29413-0020': 140,\n",
       " '4853-29413-0021': 140,\n",
       " '4853-29413-0022': 140,\n",
       " '4853-29413-0023': 140,\n",
       " '4853-29413-0024': 140,\n",
       " '4853-29413-0025': 140,\n",
       " '4853-29413-0026': 140,\n",
       " '4853-29413-0027': 140,\n",
       " '4853-29413-0028': 140,\n",
       " '4853-29413-0029': 140,\n",
       " '4853-29413-0030': 140,\n",
       " '4853-29413-0031': 140,\n",
       " '4853-29413-0032': 140,\n",
       " '4859-22176-0000': 141,\n",
       " '4859-22176-0001': 141,\n",
       " '4859-22176-0002': 141,\n",
       " '4859-22176-0003': 141,\n",
       " '4859-22176-0004': 141,\n",
       " '4859-22176-0005': 141,\n",
       " '4859-22176-0006': 141,\n",
       " '4859-22176-0007': 141,\n",
       " '4859-22176-0008': 141,\n",
       " '4859-22176-0009': 141,\n",
       " '4859-22176-0010': 141,\n",
       " '4859-22176-0011': 141,\n",
       " '4859-22176-0012': 141,\n",
       " '4859-22176-0013': 141,\n",
       " '4859-22176-0014': 141,\n",
       " '4859-22176-0015': 141,\n",
       " '4859-22176-0016': 141,\n",
       " '4859-22176-0017': 141,\n",
       " '4859-22176-0018': 141,\n",
       " '4859-22176-0019': 141,\n",
       " '4859-22176-0020': 141,\n",
       " '4859-22176-0021': 141,\n",
       " '4859-22176-0022': 141,\n",
       " '4859-22176-0023': 141,\n",
       " '4859-22176-0024': 141,\n",
       " '4859-26870-0000': 141,\n",
       " '4859-26870-0001': 141,\n",
       " '4859-26870-0002': 141,\n",
       " '4859-26870-0003': 141,\n",
       " '4859-26870-0004': 141,\n",
       " '4859-26870-0005': 141,\n",
       " '4859-26870-0006': 141,\n",
       " '4859-26870-0007': 141,\n",
       " '4859-26870-0008': 141,\n",
       " '4859-26870-0009': 141,\n",
       " '4859-26870-0010': 141,\n",
       " '4859-26870-0011': 141,\n",
       " '4859-26870-0012': 141,\n",
       " '4859-26870-0013': 141,\n",
       " '4859-26870-0014': 141,\n",
       " '4859-26870-0015': 141,\n",
       " '4859-26870-0016': 141,\n",
       " '4859-26870-0017': 141,\n",
       " '4859-26870-0018': 141,\n",
       " '4859-26870-0019': 141,\n",
       " '4859-26870-0020': 141,\n",
       " '4859-26870-0021': 141,\n",
       " '4859-26870-0022': 141,\n",
       " '4859-26870-0023': 141,\n",
       " '4859-26870-0024': 141,\n",
       " '4859-26870-0025': 141,\n",
       " '4859-29340-0000': 141,\n",
       " '4859-29340-0001': 141,\n",
       " '4859-29340-0002': 141,\n",
       " '4859-29340-0003': 141,\n",
       " '4859-29340-0004': 141,\n",
       " '4859-29340-0005': 141,\n",
       " '4859-29340-0006': 141,\n",
       " '4859-29340-0007': 141,\n",
       " '4859-29340-0008': 141,\n",
       " '4859-29340-0009': 141,\n",
       " '4859-29340-0010': 141,\n",
       " '4859-29340-0011': 141,\n",
       " '4859-29340-0012': 141,\n",
       " '4859-29340-0013': 141,\n",
       " '4859-29340-0014': 141,\n",
       " '4859-29340-0015': 141,\n",
       " '4859-29340-0016': 141,\n",
       " '4859-29340-0017': 141,\n",
       " '4859-29340-0018': 141,\n",
       " '4859-29340-0019': 141,\n",
       " '4859-29340-0020': 141,\n",
       " '4859-29340-0021': 141,\n",
       " '4859-29340-0022': 141,\n",
       " '4859-29340-0023': 141,\n",
       " '4859-29340-0024': 141,\n",
       " '4859-29340-0025': 141,\n",
       " '4859-29340-0026': 141,\n",
       " '4859-29340-0027': 141,\n",
       " '4859-29340-0028': 141,\n",
       " '4859-29340-0029': 141,\n",
       " '4859-29340-0030': 141,\n",
       " '4859-29340-0031': 141,\n",
       " '4859-29340-0032': 141,\n",
       " '4859-29340-0033': 141,\n",
       " '4859-29340-0034': 141,\n",
       " '4859-29340-0035': 141,\n",
       " '4859-29340-0036': 141,\n",
       " '4859-29340-0037': 141,\n",
       " '4859-29340-0038': 141,\n",
       " '4859-29340-0039': 141,\n",
       " '4859-29340-0040': 141,\n",
       " '4859-29340-0041': 141,\n",
       " '4898-20016-0000': 142,\n",
       " '4898-20016-0001': 142,\n",
       " '4898-20016-0002': 142,\n",
       " '4898-20016-0003': 142,\n",
       " '4898-20016-0004': 142,\n",
       " '4898-20016-0005': 142,\n",
       " '4898-20016-0006': 142,\n",
       " '4898-20016-0007': 142,\n",
       " '4898-20016-0008': 142,\n",
       " '4898-20016-0009': 142,\n",
       " '4898-20016-0010': 142,\n",
       " '4898-20016-0011': 142,\n",
       " '4898-20016-0012': 142,\n",
       " '4898-20016-0013': 142,\n",
       " '4898-20016-0014': 142,\n",
       " '4898-20016-0015': 142,\n",
       " '4898-20016-0016': 142,\n",
       " '4898-20016-0017': 142,\n",
       " '4898-20016-0018': 142,\n",
       " '4898-20016-0019': 142,\n",
       " '4898-20016-0020': 142,\n",
       " '4898-20016-0021': 142,\n",
       " '4898-20016-0022': 142,\n",
       " '4898-20016-0023': 142,\n",
       " '4898-20016-0024': 142,\n",
       " '4898-20016-0025': 142,\n",
       " '4898-20016-0026': 142,\n",
       " '4898-20016-0027': 142,\n",
       " '4898-20016-0028': 142,\n",
       " '4898-20016-0029': 142,\n",
       " '4898-20016-0030': 142,\n",
       " '4898-20016-0031': 142,\n",
       " '4898-20016-0032': 142,\n",
       " '4898-20016-0033': 142,\n",
       " '4898-20016-0034': 142,\n",
       " '4898-20016-0035': 142,\n",
       " '4898-20016-0036': 142,\n",
       " '4898-20016-0037': 142,\n",
       " '4898-20016-0038': 142,\n",
       " '4898-20016-0039': 142,\n",
       " '4898-20016-0040': 142,\n",
       " '4898-28461-0000': 142,\n",
       " '4898-28461-0001': 142,\n",
       " '4898-28461-0002': 142,\n",
       " '4898-28461-0003': 142,\n",
       " '4898-28461-0004': 142,\n",
       " '4898-28461-0005': 142,\n",
       " '4898-28461-0006': 142,\n",
       " '4898-28461-0007': 142,\n",
       " '4898-28461-0008': 142,\n",
       " '4898-28461-0009': 142,\n",
       " '4898-28461-0010': 142,\n",
       " '4898-28461-0011': 142,\n",
       " '4898-28461-0012': 142,\n",
       " '4898-28461-0013': 142,\n",
       " '4898-28461-0014': 142,\n",
       " '4898-28461-0015': 142,\n",
       " '4898-28461-0016': 142,\n",
       " '4898-28461-0017': 142,\n",
       " '4898-28461-0018': 142,\n",
       " '4898-28461-0019': 142,\n",
       " '4898-28461-0020': 142,\n",
       " '4898-28461-0021': 142,\n",
       " '4898-28461-0022': 142,\n",
       " '4898-28461-0023': 142,\n",
       " '4898-28461-0024': 142,\n",
       " '4898-28461-0025': 142,\n",
       " '4898-28461-0026': 142,\n",
       " '4898-28461-0027': 142,\n",
       " '4898-28461-0028': 142,\n",
       " '4898-28461-0029': 142,\n",
       " '4898-28461-0030': 142,\n",
       " '4898-28461-0031': 142,\n",
       " '4898-28461-0032': 142,\n",
       " '4898-28461-0033': 142,\n",
       " '4898-28461-0034': 142,\n",
       " '4898-28461-0035': 142,\n",
       " '4898-28461-0036': 142,\n",
       " '4898-28461-0037': 142,\n",
       " '4898-28461-0038': 142,\n",
       " '4898-28461-0039': 142,\n",
       " '4898-28461-0040': 142,\n",
       " '4898-28461-0041': 142,\n",
       " '4898-28461-0042': 142,\n",
       " '4898-28461-0043': 142,\n",
       " '4898-28461-0044': 142,\n",
       " '4898-28461-0045': 142,\n",
       " '4898-28461-0046': 142,\n",
       " '4898-28461-0047': 142,\n",
       " '4898-28461-0048': 142,\n",
       " '4898-28461-0049': 142,\n",
       " '4898-28461-0050': 142,\n",
       " '4898-28461-0051': 142,\n",
       " '4898-28461-0052': 142,\n",
       " '4898-28461-0053': 142,\n",
       " '4898-28461-0054': 142,\n",
       " '4898-28461-0055': 142,\n",
       " '4898-28461-0056': 142,\n",
       " '4898-28461-0057': 142,\n",
       " '4898-28461-0058': 142,\n",
       " '4898-28461-0059': 142,\n",
       " '4898-28461-0060': 142,\n",
       " '4898-28461-0061': 142,\n",
       " '4898-28461-0062': 142,\n",
       " '4898-28461-0063': 142,\n",
       " '4898-28461-0064': 142,\n",
       " '4898-28461-0065': 142,\n",
       " '4898-28461-0066': 142,\n",
       " '4898-28461-0067': 142,\n",
       " '4898-28461-0068': 142,\n",
       " '5022-29405-0000': 143,\n",
       " '5022-29405-0001': 143,\n",
       " '5022-29405-0002': 143,\n",
       " '5022-29405-0003': 143,\n",
       " '5022-29405-0004': 143,\n",
       " '5022-29405-0005': 143,\n",
       " '5022-29405-0006': 143,\n",
       " '5022-29405-0007': 143,\n",
       " '5022-29405-0008': 143,\n",
       " '5022-29405-0009': 143,\n",
       " '5022-29405-0010': 143,\n",
       " '5022-29405-0011': 143,\n",
       " '5022-29405-0012': 143,\n",
       " '5022-29405-0013': 143,\n",
       " '5022-29405-0014': 143,\n",
       " '5022-29405-0015': 143,\n",
       " '5022-29405-0016': 143,\n",
       " '5022-29405-0017': 143,\n",
       " '5022-29405-0018': 143,\n",
       " '5022-29405-0019': 143,\n",
       " '5022-29405-0020': 143,\n",
       " '5022-29405-0021': 143,\n",
       " '5022-29405-0022': 143,\n",
       " '5022-29405-0023': 143,\n",
       " '5022-29405-0024': 143,\n",
       " '5022-29405-0025': 143,\n",
       " '5022-29405-0026': 143,\n",
       " '5022-29405-0027': 143,\n",
       " '5022-29405-0028': 143,\n",
       " '5022-29405-0029': 143,\n",
       " '5022-29405-0030': 143,\n",
       " '5022-29405-0031': 143,\n",
       " '5022-29405-0032': 143,\n",
       " '5022-29405-0033': 143,\n",
       " '5022-29405-0034': 143,\n",
       " '5022-29405-0035': 143,\n",
       " '5022-29405-0036': 143,\n",
       " '5022-29405-0037': 143,\n",
       " '5022-29405-0038': 143,\n",
       " '5022-29405-0039': 143,\n",
       " '5022-29405-0040': 143,\n",
       " '5022-29405-0041': 143,\n",
       " '5022-29405-0042': 143,\n",
       " '5022-29405-0043': 143,\n",
       " '5022-29411-0000': 143,\n",
       " '5022-29411-0001': 143,\n",
       " '5022-29411-0002': 143,\n",
       " '5022-29411-0003': 143,\n",
       " '5022-29411-0004': 143,\n",
       " '5022-29411-0005': 143,\n",
       " '5022-29411-0006': 143,\n",
       " '5022-29411-0007': 143,\n",
       " '5022-29411-0008': 143,\n",
       " '5022-29411-0009': 143,\n",
       " '5022-29411-0010': 143,\n",
       " '5022-29411-0011': 143,\n",
       " '5022-29411-0012': 143,\n",
       " '5022-29411-0013': 143,\n",
       " '5022-29411-0014': 143,\n",
       " '5022-29411-0015': 143,\n",
       " '5022-29411-0016': 143,\n",
       " '5022-29411-0017': 143,\n",
       " '5022-29411-0018': 143,\n",
       " '5022-29411-0019': 143,\n",
       " '5022-29411-0020': 143,\n",
       " '5022-29411-0021': 143,\n",
       " '5022-29411-0022': 143,\n",
       " '5022-29411-0023': 143,\n",
       " '5022-29411-0024': 143,\n",
       " '5022-29411-0025': 143,\n",
       " '5022-29411-0026': 143,\n",
       " '5022-29411-0027': 143,\n",
       " '5022-29411-0028': 143,\n",
       " '5022-29411-0029': 143,\n",
       " '5022-29411-0030': 143,\n",
       " '5022-29411-0031': 143,\n",
       " '5022-29411-0032': 143,\n",
       " '5022-29411-0033': 143,\n",
       " '5022-29411-0034': 143,\n",
       " '5022-29411-0035': 143,\n",
       " '5022-29411-0036': 143,\n",
       " '5022-29411-0037': 143,\n",
       " '5022-29411-0038': 143,\n",
       " '5022-29411-0039': 143,\n",
       " '5022-29411-0040': 143,\n",
       " '5022-29411-0041': 143,\n",
       " '5022-29411-0042': 143,\n",
       " '5022-29411-0043': 143,\n",
       " '5022-29411-0044': 143,\n",
       " '5022-29411-0045': 143,\n",
       " '5022-29411-0046': 143,\n",
       " '5022-29411-0047': 143,\n",
       " '5022-29411-0048': 143,\n",
       " '5022-29411-0049': 143,\n",
       " '5022-29411-0050': 143,\n",
       " '5022-29411-0051': 143,\n",
       " '5022-29411-0052': 143,\n",
       " '5022-29411-0053': 143,\n",
       " '5022-29411-0054': 143,\n",
       " '5022-29411-0055': 143,\n",
       " '5022-29411-0056': 143,\n",
       " '5022-29411-0057': 143,\n",
       " '5022-29411-0058': 143,\n",
       " '5022-29411-0059': 143,\n",
       " '5022-29411-0060': 143,\n",
       " '5022-29411-0061': 143,\n",
       " '5022-29411-0062': 143,\n",
       " '5022-29411-0063': 143,\n",
       " '5022-29411-0064': 143,\n",
       " '5022-29411-0065': 143,\n",
       " '5022-29411-0066': 143,\n",
       " '5022-29411-0067': 143,\n",
       " '5022-29411-0068': 143,\n",
       " '5022-29411-0069': 143,\n",
       " '5022-29411-0070': 143,\n",
       " '5049-25947-0000': 144,\n",
       " '5049-25947-0001': 144,\n",
       " '5049-25947-0002': 144,\n",
       " '5049-25947-0003': 144,\n",
       " '5049-25947-0004': 144,\n",
       " '5049-25947-0005': 144,\n",
       " '5049-25947-0006': 144,\n",
       " '5049-25947-0007': 144,\n",
       " '5049-25947-0008': 144,\n",
       " '5049-25947-0009': 144,\n",
       " '5049-25947-0010': 144,\n",
       " '5049-25947-0011': 144,\n",
       " '5049-25947-0012': 144,\n",
       " '5049-25947-0013': 144,\n",
       " '5049-25947-0014': 144,\n",
       " '5049-25947-0015': 144,\n",
       " '5049-25947-0016': 144,\n",
       " '5049-25947-0017': 144,\n",
       " '5049-25947-0018': 144,\n",
       " '5049-25947-0019': 144,\n",
       " '5049-25947-0020': 144,\n",
       " '5049-25947-0021': 144,\n",
       " '5049-25947-0022': 144,\n",
       " '5049-25947-0023': 144,\n",
       " '5049-25947-0024': 144,\n",
       " '5049-25947-0025': 144,\n",
       " '5049-25947-0026': 144,\n",
       " '5049-25947-0027': 144,\n",
       " '5049-25947-0028': 144,\n",
       " '5049-25947-0029': 144,\n",
       " '5049-25947-0030': 144,\n",
       " '5049-25947-0031': 144,\n",
       " '5049-25947-0032': 144,\n",
       " '5049-25947-0033': 144,\n",
       " '5049-25947-0034': 144,\n",
       " '5049-25947-0035': 144,\n",
       " '5049-25947-0036': 144,\n",
       " '5049-25947-0037': 144,\n",
       " '5049-25947-0038': 144,\n",
       " '5049-25947-0039': 144,\n",
       " '5049-25947-0040': 144,\n",
       " '5049-25947-0041': 144,\n",
       " '5049-25947-0042': 144,\n",
       " '5049-25947-0043': 144,\n",
       " '5049-25947-0044': 144,\n",
       " '5049-25947-0045': 144,\n",
       " '5049-25947-0046': 144,\n",
       " '5049-25947-0047': 144,\n",
       " '5049-25947-0048': 144,\n",
       " '5049-25947-0049': 144,\n",
       " '5049-25947-0050': 144,\n",
       " '5049-25947-0051': 144,\n",
       " '5049-25947-0052': 144,\n",
       " '5049-25947-0053': 144,\n",
       " '5049-25947-0054': 144,\n",
       " '5049-25947-0055': 144,\n",
       " '5049-25947-0056': 144,\n",
       " '5049-25947-0057': 144,\n",
       " '5049-25947-0058': 144,\n",
       " '5049-25947-0059': 144,\n",
       " '5049-25947-0060': 144,\n",
       " '5049-25947-0061': 144,\n",
       " '5049-25947-0062': 144,\n",
       " '5049-25947-0063': 144,\n",
       " '5049-25947-0064': 144,\n",
       " '5049-25947-0065': 144,\n",
       " '5049-25947-0066': 144,\n",
       " '5049-25947-0067': 144,\n",
       " '5049-25947-0068': 144,\n",
       " '5049-25947-0069': 144,\n",
       " '5049-25947-0070': 144,\n",
       " '5049-25947-0071': 144,\n",
       " '5049-25947-0072': 144,\n",
       " '5049-25947-0073': 144,\n",
       " '5049-25947-0074': 144,\n",
       " '5049-25947-0075': 144,\n",
       " '5049-25947-0076': 144,\n",
       " '5049-25947-0077': 144,\n",
       " '5049-25947-0078': 144,\n",
       " '5049-25947-0079': 144,\n",
       " '5049-25947-0080': 144,\n",
       " '5049-25947-0081': 144,\n",
       " '5049-25947-0082': 144,\n",
       " '5049-25947-0083': 144,\n",
       " '5049-25947-0084': 144,\n",
       " '5049-25947-0085': 144,\n",
       " '5049-25947-0086': 144,\n",
       " '5049-25947-0087': 144,\n",
       " '5049-25947-0088': 144,\n",
       " '5049-25947-0089': 144,\n",
       " '5049-25947-0090': 144,\n",
       " '5049-25947-0091': 144,\n",
       " '5049-25947-0092': 144,\n",
       " '5049-25947-0093': 144,\n",
       " '5049-25947-0094': 144,\n",
       " '5049-25947-0095': 144,\n",
       " '5049-25947-0096': 144,\n",
       " '5049-25947-0097': 144,\n",
       " '5049-25947-0098': 144,\n",
       " '5049-25947-0099': 144,\n",
       " '5049-25947-0100': 144,\n",
       " '5049-25947-0101': 144,\n",
       " '5049-25947-0102': 144,\n",
       " '5049-25947-0103': 144,\n",
       " '5049-25947-0104': 144,\n",
       " '5049-25947-0105': 144,\n",
       " '5049-25947-0106': 144,\n",
       " '5049-25947-0107': 144,\n",
       " '5049-25947-0108': 144,\n",
       " '5049-25947-0109': 144,\n",
       " '5049-25947-0110': 144,\n",
       " '5049-25947-0111': 144,\n",
       " '5049-25947-0112': 144,\n",
       " '5049-25947-0113': 144,\n",
       " '5049-25947-0114': 144,\n",
       " '5049-25947-0115': 144,\n",
       " '5049-25947-0116': 144,\n",
       " '5049-25947-0117': 144,\n",
       " '5049-25947-0118': 144,\n",
       " '5049-25947-0119': 144,\n",
       " '5049-25947-0120': 144,\n",
       " '5049-25947-0121': 144,\n",
       " '5049-25947-0122': 144,\n",
       " '5049-25947-0123': 144,\n",
       " '5049-25947-0124': 144,\n",
       " '5049-25947-0125': 144,\n",
       " '5049-25947-0126': 144,\n",
       " '5104-33406-0000': 145,\n",
       " '5104-33406-0001': 145,\n",
       " '5104-33406-0002': 145,\n",
       " '5104-33406-0003': 145,\n",
       " '5104-33406-0004': 145,\n",
       " '5104-33406-0005': 145,\n",
       " '5104-33406-0006': 145,\n",
       " '5104-33406-0007': 145,\n",
       " '5104-33406-0008': 145,\n",
       " '5104-33406-0009': 145,\n",
       " '5104-33406-0010': 145,\n",
       " '5104-33406-0011': 145,\n",
       " '5104-33406-0012': 145,\n",
       " '5104-33406-0013': 145,\n",
       " '5104-33406-0014': 145,\n",
       " '5104-33406-0015': 145,\n",
       " '5104-33406-0016': 145,\n",
       " '5104-33406-0017': 145,\n",
       " '5104-33406-0018': 145,\n",
       " '5104-33406-0019': 145,\n",
       " '5104-33406-0020': 145,\n",
       " '5104-33406-0021': 145,\n",
       " '5104-33406-0022': 145,\n",
       " '5104-33406-0023': 145,\n",
       " '5104-33406-0024': 145,\n",
       " '5104-33406-0025': 145,\n",
       " '5104-33406-0026': 145,\n",
       " '5104-33406-0027': 145,\n",
       " '5104-33406-0028': 145,\n",
       " '5104-33406-0029': 145,\n",
       " '5104-33406-0030': 145,\n",
       " '5104-33406-0031': 145,\n",
       " '5104-33406-0032': 145,\n",
       " '5104-33406-0033': 145,\n",
       " '5104-33406-0034': 145,\n",
       " '5104-33406-0035': 145,\n",
       " '5104-33406-0036': 145,\n",
       " '5104-33406-0037': 145,\n",
       " '5104-33406-0038': 145,\n",
       " '5104-33406-0039': 145,\n",
       " '5104-33406-0040': 145,\n",
       " '5104-33406-0041': 145,\n",
       " '5104-33406-0042': 145,\n",
       " '5104-33406-0043': 145,\n",
       " '5104-33406-0044': 145,\n",
       " '5104-33406-0045': 145,\n",
       " '5104-33406-0046': 145,\n",
       " '5104-33406-0047': 145,\n",
       " '5104-33406-0048': 145,\n",
       " '5104-33406-0049': 145,\n",
       " '5104-33406-0050': 145,\n",
       " '5104-33406-0051': 145,\n",
       " '5104-33406-0052': 145,\n",
       " '5104-33406-0053': 145,\n",
       " '5104-33406-0054': 145,\n",
       " '5104-33406-0055': 145,\n",
       " '5104-33406-0056': 145,\n",
       " '5104-33406-0057': 145,\n",
       " '5104-33406-0058': 145,\n",
       " '5104-33406-0059': 145,\n",
       " '5104-33406-0060': 145,\n",
       " '5104-33406-0061': 145,\n",
       " '5104-33407-0000': 145,\n",
       " '5104-33407-0001': 145,\n",
       " '5104-33407-0002': 145,\n",
       " '5104-33407-0003': 145,\n",
       " '5104-33407-0004': 145,\n",
       " '5104-33407-0005': 145,\n",
       " '5104-33407-0006': 145,\n",
       " '5104-33407-0007': 145,\n",
       " '5104-33407-0008': 145,\n",
       " '5104-33407-0009': 145,\n",
       " '5104-33407-0010': 145,\n",
       " '5104-33407-0011': 145,\n",
       " '5104-33407-0012': 145,\n",
       " '5104-33407-0013': 145,\n",
       " '5104-33407-0014': 145,\n",
       " '5104-33407-0015': 145,\n",
       " '5104-33407-0016': 145,\n",
       " '5104-33407-0017': 145,\n",
       " '5104-33407-0018': 145,\n",
       " '5104-33407-0019': 145,\n",
       " '5104-33407-0020': 145,\n",
       " '5104-33407-0021': 145,\n",
       " '5104-33407-0022': 145,\n",
       " '5104-33407-0023': 145,\n",
       " '5104-33407-0024': 145,\n",
       " '5104-33407-0025': 145,\n",
       " '5104-33407-0026': 145,\n",
       " '5104-33407-0027': 145,\n",
       " '5104-33407-0028': 145,\n",
       " '5104-33407-0029': 145,\n",
       " '5104-33407-0030': 145,\n",
       " '5104-33407-0031': 145,\n",
       " '5104-33407-0032': 145,\n",
       " '5104-33407-0033': 145,\n",
       " '5104-33407-0034': 145,\n",
       " '5104-33407-0035': 145,\n",
       " ...}"
      ]
     },
     "execution_count": 90,
     "metadata": {},
     "output_type": "execute_result"
    }
   ],
   "source": [
    "labels"
   ]
  },
  {
   "cell_type": "code",
   "execution_count": 91,
   "metadata": {},
   "outputs": [],
   "source": [
    "X_train, X_val, y_train, y_val = train_test_split(X_list, y_list, test_size=0.20, random_state=42)\n",
    "X_val, X_test, y_val, y_test = train_test_split(X_val, y_val, test_size=0.50, random_state=42)\n",
    "assert len(np.unique(np.array(y_val)))"
   ]
  },
  {
   "cell_type": "code",
   "execution_count": 92,
   "metadata": {},
   "outputs": [],
   "source": [
    "partition = {}\n",
    "partition['train'] = X_train\n",
    "partition['validation'] = X_val"
   ]
  },
  {
   "cell_type": "code",
   "execution_count": 93,
   "metadata": {},
   "outputs": [
    {
     "data": {
      "text/plain": [
       "['8797-294123-0061',\n",
       " '405-130894-0014',\n",
       " '6531-61334-0116',\n",
       " '1743-142913-0008',\n",
       " '328-129766-0072',\n",
       " '7402-90848-0026',\n",
       " '3857-180923-0011',\n",
       " '7402-90848-0053',\n",
       " '6064-56165-0034',\n",
       " '8770-295462-0019',\n",
       " '5390-30102-0005',\n",
       " '1578-140049-0001',\n",
       " '441-128982-0017',\n",
       " '4214-7146-0036',\n",
       " '7178-34644-0069',\n",
       " '2092-145709-0019',\n",
       " '8238-274553-0031',\n",
       " '8088-284756-0074',\n",
       " '250-142286-0028',\n",
       " '3947-13260-0026',\n",
       " '426-122821-0040',\n",
       " '5688-41232-0031',\n",
       " '6454-107462-0017',\n",
       " '3982-182255-0008',\n",
       " '4406-16883-0015',\n",
       " '3857-180923-0028',\n",
       " '150-126112-0001',\n",
       " '233-134440-0015',\n",
       " '3526-175658-0023',\n",
       " '911-128684-0067',\n",
       " '1334-135589-0087',\n",
       " '6147-34606-0032',\n",
       " '328-129766-0042',\n",
       " '4680-16026-0019',\n",
       " '8465-246940-0005',\n",
       " '1898-145715-0022',\n",
       " '4406-16882-0041',\n",
       " '4853-29413-0026',\n",
       " '5514-19192-0000',\n",
       " '3982-178459-0031',\n",
       " '7067-76047-0045',\n",
       " '5339-14133-0039',\n",
       " '8108-280359-0020',\n",
       " '5808-48608-0060',\n",
       " '1867-154071-0019',\n",
       " '2817-142371-0030',\n",
       " '5022-29411-0029',\n",
       " '4137-11701-0039',\n",
       " '6147-34607-0037',\n",
       " '87-121553-0105',\n",
       " '7635-105409-0036',\n",
       " '226-131532-0028',\n",
       " '5339-14134-0063',\n",
       " '911-130578-0002',\n",
       " '87-121553-0098',\n",
       " '78-369-0037',\n",
       " '328-129766-0094',\n",
       " '5514-19193-0031',\n",
       " '4014-186176-0001',\n",
       " '2007-149877-0052',\n",
       " '7078-271888-0075',\n",
       " '1841-159771-0013',\n",
       " '8425-287387-0012',\n",
       " '7059-77900-0023',\n",
       " '26-496-0010',\n",
       " '1334-135589-0019',\n",
       " '163-122947-0012',\n",
       " '298-126791-0014',\n",
       " '7794-295955-0023',\n",
       " '6818-68772-0012',\n",
       " '5652-19215-0034',\n",
       " '289-121665-0046',\n",
       " '7148-82991-0012',\n",
       " '5393-19219-0041',\n",
       " '7264-92314-0024',\n",
       " '3242-67168-0006',\n",
       " '3879-173592-0024',\n",
       " '7278-246956-0016',\n",
       " '200-124139-0023',\n",
       " '458-126305-0039',\n",
       " '441-128988-0031',\n",
       " '8975-270782-0009',\n",
       " '6880-216547-0056',\n",
       " '1502-122615-0004',\n",
       " '8630-305212-0032',\n",
       " '458-126305-0028',\n",
       " '5789-70653-0032',\n",
       " '412-126975-0016',\n",
       " '8797-294123-0090',\n",
       " '2514-149482-0017',\n",
       " '2007-132570-0006',\n",
       " '1898-145715-0014',\n",
       " '405-130894-0069',\n",
       " '887-123289-0009',\n",
       " '8063-274115-0006',\n",
       " '1594-135914-0101',\n",
       " '27-124992-0010',\n",
       " '7190-90542-0082',\n",
       " '87-121553-0053',\n",
       " '4859-26870-0000',\n",
       " '587-54108-0007',\n",
       " '4406-16883-0042',\n",
       " '6529-62556-0027',\n",
       " '3374-298026-0003',\n",
       " '4267-72637-0007',\n",
       " '3240-131231-0061',\n",
       " '6081-41998-0034',\n",
       " '4088-158077-0063',\n",
       " '1355-39947-0035',\n",
       " '446-123501-0038',\n",
       " '3830-12535-0008',\n",
       " '2893-139310-0035',\n",
       " '3699-19402-0014',\n",
       " '322-124146-0022',\n",
       " '8098-278278-0005',\n",
       " '7078-271888-0072',\n",
       " '3214-167602-0008',\n",
       " '5514-19193-0010',\n",
       " '6529-62556-0015',\n",
       " '5463-39174-0018',\n",
       " '150-126112-0002',\n",
       " '669-129061-0007',\n",
       " '3947-13262-0029',\n",
       " '5703-47198-0051',\n",
       " '27-124992-0044',\n",
       " '196-122152-0031',\n",
       " '6880-216547-0014',\n",
       " '196-122152-0013',\n",
       " '3436-172171-0040',\n",
       " '7302-86815-0015',\n",
       " '8108-280354-0009',\n",
       " '6848-252322-0015',\n",
       " '83-3054-0007',\n",
       " '4137-11701-0025',\n",
       " '4788-94904-0004',\n",
       " '27-124992-0057',\n",
       " '4397-15668-0015',\n",
       " '8312-279791-0033',\n",
       " '4640-19189-0015',\n",
       " '8108-274318-0045',\n",
       " '7059-77900-0012',\n",
       " '8629-261139-0045',\n",
       " '4267-78186-0036',\n",
       " '8838-298545-0000',\n",
       " '1447-130552-0011',\n",
       " '625-132112-0029',\n",
       " '625-132112-0002',\n",
       " '6415-111615-0014',\n",
       " '1926-147979-0011',\n",
       " '2196-170379-0027',\n",
       " '7312-92432-0012',\n",
       " '839-130898-0086',\n",
       " '1867-148436-0006',\n",
       " '328-129766-0016',\n",
       " '6078-54013-0048',\n",
       " '8312-279790-0050',\n",
       " '3830-12530-0036',\n",
       " '2092-145709-0004',\n",
       " '2893-139322-0000',\n",
       " '5867-48852-0074',\n",
       " '2384-152900-0008',\n",
       " '5750-35690-0009',\n",
       " '87-121553-0096',\n",
       " '7278-246956-0019',\n",
       " '3240-131231-0077',\n",
       " '5867-48852-0082',\n",
       " '7148-82991-0032',\n",
       " '40-121026-0037',\n",
       " '2893-139310-0016',\n",
       " '83-11691-0037',\n",
       " '4788-91208-0009',\n",
       " '1447-130552-0019',\n",
       " '40-121026-0034',\n",
       " '4830-25898-0044',\n",
       " '7517-100437-0009',\n",
       " '8747-293952-0000',\n",
       " '2893-139310-0014',\n",
       " '5393-19218-0054',\n",
       " '1355-39947-0026',\n",
       " '1081-128618-0012',\n",
       " '446-123501-0025',\n",
       " '2436-2481-0017',\n",
       " '7447-91187-0030',\n",
       " '6529-62554-0054',\n",
       " '7447-91187-0051',\n",
       " '3830-12530-0020',\n",
       " '5049-25947-0077',\n",
       " '125-121124-0019',\n",
       " '8770-295463-0004',\n",
       " '669-129074-0017',\n",
       " '1263-141777-0007',\n",
       " '1235-135884-0021',\n",
       " '4680-16026-0030',\n",
       " '1926-147979-0029',\n",
       " '7800-283493-0000',\n",
       " '3857-182315-0045',\n",
       " '1355-39947-0095',\n",
       " '289-121665-0033',\n",
       " '1034-121119-0057',\n",
       " '5789-57158-0010',\n",
       " '307-127539-0023',\n",
       " '839-130898-0042',\n",
       " '4853-27670-0021',\n",
       " '2007-149877-0045',\n",
       " '83-9960-0009',\n",
       " '1898-145715-0021',\n",
       " '3440-171009-0022',\n",
       " '5678-43302-0013',\n",
       " '8975-270782-0034',\n",
       " '1355-39947-0015',\n",
       " '2092-145706-0048',\n",
       " '196-122150-0007',\n",
       " '6367-74004-0037',\n",
       " '4340-15220-0028',\n",
       " '696-93314-0063',\n",
       " '4014-186176-0024',\n",
       " '5192-19397-0060',\n",
       " '1963-142393-0023',\n",
       " '412-126975-0060',\n",
       " '60-121082-0088',\n",
       " '163-122947-0069',\n",
       " '2002-139469-0081',\n",
       " '4340-15220-0030',\n",
       " '5456-62043-0032',\n",
       " '403-216-0007',\n",
       " '7059-88364-0027',\n",
       " '2514-149482-0079',\n",
       " '2817-142371-0073',\n",
       " '60-121082-0060',\n",
       " '125-121124-0031',\n",
       " '3240-131231-0013',\n",
       " '7278-104730-0024',\n",
       " '6848-252323-0022',\n",
       " '4406-16883-0057',\n",
       " '3526-176653-0024',\n",
       " '1447-130550-0002',\n",
       " '2911-15084-0011',\n",
       " '4267-78186-0031',\n",
       " '4018-107312-0003',\n",
       " '3168-173565-0053',\n",
       " '289-121652-0004',\n",
       " '1624-168623-0013',\n",
       " '2952-407-0001',\n",
       " '696-93314-0058',\n",
       " '2514-149482-0026',\n",
       " '3486-166424-0054',\n",
       " '5514-19192-0049',\n",
       " '8419-286676-0031',\n",
       " '1069-133709-0046',\n",
       " '1624-142933-0018',\n",
       " '3112-9554-0019',\n",
       " '2391-145015-0056',\n",
       " '1246-124548-0011',\n",
       " '460-172359-0022',\n",
       " '5390-30096-0028',\n",
       " '2416-152139-0049',\n",
       " '3112-9554-0009',\n",
       " '328-129766-0031',\n",
       " '3235-11599-0025',\n",
       " '3983-5331-0009',\n",
       " '8312-279790-0026',\n",
       " '322-124147-0017',\n",
       " '1502-122619-0075',\n",
       " '8108-274318-0041',\n",
       " '2196-170151-0029',\n",
       " '3242-67168-0018',\n",
       " '412-126975-0073',\n",
       " '6415-111615-0016',\n",
       " '2514-149482-0018',\n",
       " '3879-174923-0023',\n",
       " '307-127539-0013',\n",
       " '405-130894-0072',\n",
       " '909-131045-0019',\n",
       " '8108-274318-0020',\n",
       " '1898-145702-0009',\n",
       " '6064-300880-0028',\n",
       " '254-127705-0010',\n",
       " '1363-135842-0010',\n",
       " '5390-30096-0014',\n",
       " '458-126294-0008',\n",
       " '2817-142371-0036',\n",
       " '3879-174923-0059',\n",
       " '4160-14187-0020',\n",
       " '1040-133433-0052',\n",
       " '587-41619-0015',\n",
       " '2391-145015-0070',\n",
       " '3486-166446-0000',\n",
       " '3830-12529-0005',\n",
       " '196-122159-0007',\n",
       " '4680-16042-0022',\n",
       " '1553-140048-0004',\n",
       " '7517-100437-0017',\n",
       " '1970-10594-0019',\n",
       " '60-121082-0013',\n",
       " '196-122159-0019',\n",
       " '4481-17499-0013',\n",
       " '198-209-0001',\n",
       " '2764-36617-0010',\n",
       " '7635-105661-0039',\n",
       " '6880-216547-0061',\n",
       " '254-27760-0025',\n",
       " '696-93314-0005',\n",
       " '441-130108-0004',\n",
       " '4297-13009-0046',\n",
       " '307-127540-0002',\n",
       " '8226-274371-0036',\n",
       " '3723-171115-0022',\n",
       " '103-1240-0027',\n",
       " '5104-33406-0034',\n",
       " '2289-152257-0008',\n",
       " '4640-19189-0035',\n",
       " '89-219-0036',\n",
       " '412-126975-0064',\n",
       " '445-123860-0026',\n",
       " '5652-19215-0033',\n",
       " '3259-158083-0045',\n",
       " '2002-139469-0032',\n",
       " '6367-65536-0038',\n",
       " '481-123720-0015',\n",
       " '1594-135914-0003',\n",
       " '4195-186237-0030',\n",
       " '1624-168623-0018',\n",
       " '3168-173565-0009',\n",
       " '302-123504-0026',\n",
       " '3723-171631-0011',\n",
       " '1594-135914-0114',\n",
       " '5750-100289-0056',\n",
       " '7780-274562-0011',\n",
       " '2911-7601-0003',\n",
       " '5778-54535-0016',\n",
       " '4267-287369-0028',\n",
       " '5390-24512-0039',\n",
       " '8063-274116-0017',\n",
       " '1737-148989-0027',\n",
       " '911-128684-0055',\n",
       " '8770-295463-0012',\n",
       " '1898-145715-0036',\n",
       " '8797-294123-0065',\n",
       " '460-172359-0069',\n",
       " '7800-283492-0033',\n",
       " '1926-147979-0021',\n",
       " '3699-47246-0006',\n",
       " '311-124404-0038',\n",
       " '7067-76048-0059',\n",
       " '7859-102518-0024',\n",
       " '3240-131232-0037',\n",
       " '8108-280354-0026',\n",
       " '8063-274116-0006',\n",
       " '6181-216552-0011',\n",
       " '3259-158083-0115',\n",
       " '7635-105409-0000',\n",
       " '5104-33407-0045',\n",
       " '27-124992-0041',\n",
       " '8419-286667-0024',\n",
       " '4051-11218-0006',\n",
       " '5456-62043-0010',\n",
       " '5750-35690-0019',\n",
       " '6385-34655-0032',\n",
       " '307-127539-0030',\n",
       " '1455-138263-0035',\n",
       " '1081-125237-0070',\n",
       " '7078-271888-0088',\n",
       " '8324-286683-0001',\n",
       " '4018-103416-0012',\n",
       " '211-122442-0044',\n",
       " '289-121652-0034',\n",
       " '4397-15678-0003',\n",
       " '3526-176653-0022',\n",
       " '125-121124-0028',\n",
       " '3947-13262-0019',\n",
       " '458-126305-0015',\n",
       " '2893-139322-0027',\n",
       " '458-126305-0010',\n",
       " '3235-28433-0022',\n",
       " '8108-280359-0005',\n",
       " '248-130697-0020',\n",
       " '6836-61803-0016',\n",
       " '4397-15678-0036',\n",
       " '2289-152258-0004',\n",
       " '4441-76263-0040',\n",
       " '446-123501-0027',\n",
       " '8123-275209-0027',\n",
       " '909-131045-0006',\n",
       " '4640-19189-0005',\n",
       " '1743-142914-0009',\n",
       " '6925-80680-0003',\n",
       " '198-209-0018',\n",
       " '332-128985-0062',\n",
       " '5867-48852-0006',\n",
       " '5808-54425-0010',\n",
       " '6563-285357-0009',\n",
       " '7264-92316-0042',\n",
       " '2182-181183-0014',\n",
       " '3664-11714-0030',\n",
       " '7517-100429-0017',\n",
       " '7505-258958-0019',\n",
       " '200-126784-0013',\n",
       " '8014-112602-0024',\n",
       " '7148-7763-0017',\n",
       " '8123-275209-0019',\n",
       " '1116-137572-0002',\n",
       " '7800-283493-0027',\n",
       " '4397-15678-0025',\n",
       " '4813-248638-0016',\n",
       " '4830-25898-0039',\n",
       " '2136-5143-0034',\n",
       " '6437-66173-0035',\n",
       " '7148-59157-0016',\n",
       " '831-130746-0012',\n",
       " '4297-13009-0056',\n",
       " '1867-154071-0012',\n",
       " '8629-261139-0025',\n",
       " '6019-3185-0070',\n",
       " '1355-39947-0067',\n",
       " '83-11691-0000',\n",
       " '405-130894-0045',\n",
       " '8747-293952-0032',\n",
       " '7078-271888-0062',\n",
       " '3374-298026-0011',\n",
       " '1502-122615-0012',\n",
       " '5703-47198-0054',\n",
       " '2893-139322-0009',\n",
       " '39-121916-0002',\n",
       " '125-121124-0062',\n",
       " '426-122819-0005',\n",
       " '8014-112602-0040',\n",
       " '4340-15220-0056',\n",
       " '5390-30096-0013',\n",
       " '7226-86965-0027',\n",
       " '441-128988-0012',\n",
       " '1116-137572-0037',\n",
       " '87-121553-0088',\n",
       " '1963-142393-0011',\n",
       " '625-132118-0003',\n",
       " '7264-92310-0032',\n",
       " '27-124992-0001',\n",
       " '6848-76049-0033',\n",
       " '78-368-0020',\n",
       " '1081-125237-0095',\n",
       " '5049-25947-0058',\n",
       " '7190-90543-0026',\n",
       " '60-121082-0049',\n",
       " '2817-142371-0054',\n",
       " '3486-166446-0037',\n",
       " '7402-59171-0035',\n",
       " '196-122159-0008',\n",
       " '1867-154075-0045',\n",
       " '250-142276-0058',\n",
       " '3259-158083-0004',\n",
       " '2843-152918-0059',\n",
       " '1069-133709-0048',\n",
       " '412-126975-0040',\n",
       " '2391-145015-0002',\n",
       " '5514-19193-0016',\n",
       " '19-227-0007',\n",
       " '5652-19215-0045',\n",
       " '8797-294123-0057',\n",
       " '1355-39947-0089',\n",
       " '1040-133433-0012',\n",
       " '322-124147-0000',\n",
       " '5808-48608-0058',\n",
       " '5688-41232-0012',\n",
       " '6367-74004-0030',\n",
       " '8465-246943-0023',\n",
       " '3440-171009-0031',\n",
       " '4137-11701-0012',\n",
       " '89-219-0004',\n",
       " '4018-103416-0031',\n",
       " '5688-41232-0000',\n",
       " '226-131533-0010',\n",
       " '8975-270782-0042',\n",
       " '3486-166446-0030',\n",
       " '2136-5143-0017',\n",
       " '3259-158083-0000',\n",
       " '6529-62554-0035',\n",
       " '307-127539-0014',\n",
       " '1841-159771-0021',\n",
       " '8425-292520-0024',\n",
       " '1963-147036-0009',\n",
       " '4813-248638-0039',\n",
       " '8238-274553-0029',\n",
       " '3947-13260-0015',\n",
       " '587-41619-0018',\n",
       " '1081-125237-0101',\n",
       " '118-47824-0048',\n",
       " '909-131044-0020',\n",
       " '7367-86737-0061',\n",
       " '6019-3185-0072',\n",
       " '2893-139310-0003',\n",
       " '405-130894-0000',\n",
       " '19-227-0012',\n",
       " '1898-145715-0010',\n",
       " '5652-39938-0038',\n",
       " '5867-48852-0095',\n",
       " '4853-27670-0034',\n",
       " '6563-285357-0033',\n",
       " '6367-65536-0043',\n",
       " '4051-10927-0002',\n",
       " '4406-16883-0049',\n",
       " '2518-154826-0017',\n",
       " '4481-17499-0003',\n",
       " '4362-15663-0009',\n",
       " '322-124146-0011',\n",
       " '4830-25898-0052',\n",
       " '8468-286673-0018',\n",
       " '118-47824-0004',\n",
       " '3214-167606-0023',\n",
       " '4014-186175-0011',\n",
       " '6272-70191-0035',\n",
       " '19-198-0033',\n",
       " '163-122947-0033',\n",
       " '426-122821-0003',\n",
       " '3807-4923-0010',\n",
       " '8238-274553-0012',\n",
       " '8747-293952-0079',\n",
       " '1334-135589-0092',\n",
       " '7794-295948-0000',\n",
       " '6272-70168-0032',\n",
       " '3242-8112-0022',\n",
       " '4680-16042-0030',\n",
       " '7800-283478-0031',\n",
       " '2182-150130-0001',\n",
       " '8238-283452-0026',\n",
       " '3807-4955-0010',\n",
       " '2436-2476-0023',\n",
       " '3214-167602-0025',\n",
       " '5808-48608-0014',\n",
       " '89-218-0006',\n",
       " '481-123720-0064',\n",
       " '6437-66173-0000',\n",
       " '1088-134315-0054',\n",
       " '7800-283478-0017',\n",
       " '8088-284756-0103',\n",
       " '3259-158083-0099',\n",
       " '4297-13009-0032',\n",
       " '8629-261139-0046',\n",
       " '1624-142933-0017',\n",
       " '412-126975-0004',\n",
       " '5339-14134-0022',\n",
       " '3699-19401-0008',\n",
       " '909-131045-0017',\n",
       " '4853-27671-0014',\n",
       " '1235-135883-0027',\n",
       " '229-130880-0019',\n",
       " '7190-90543-0034',\n",
       " '1963-142393-0057',\n",
       " '1578-6379-0035',\n",
       " '3112-9555-0080',\n",
       " '201-127786-0002',\n",
       " '1926-147979-0046',\n",
       " '3240-131231-0056',\n",
       " '625-132112-0030',\n",
       " '5463-39174-0029',\n",
       " '7067-76047-0031',\n",
       " '7780-274562-0051',\n",
       " '6818-76332-0030',\n",
       " '26-495-0041',\n",
       " '458-126305-0029',\n",
       " '669-129061-0030',\n",
       " '2952-410-0028',\n",
       " '5750-100289-0080',\n",
       " '4397-15666-0003',\n",
       " '2136-5147-0012',\n",
       " '8630-305213-0029',\n",
       " '374-180299-0018',\n",
       " '163-122947-0040',\n",
       " '1334-135589-0031',\n",
       " '8238-274553-0016',\n",
       " '26-495-0073',\n",
       " '4441-76263-0039',\n",
       " '730-358-0026',\n",
       " '4481-17499-0039',\n",
       " '7078-271888-0051',\n",
       " '6437-66173-0030',\n",
       " '8324-286683-0021',\n",
       " '7517-100442-0032',\n",
       " '445-123857-0001',\n",
       " '5652-39938-0047',\n",
       " '5339-14133-0012',\n",
       " '4441-76263-0017',\n",
       " '1081-125237-0074',\n",
       " '7264-92314-0027',\n",
       " '8312-279790-0036',\n",
       " '3486-166424-0028',\n",
       " '6147-34605-0039',\n",
       " '4297-13006-0011',\n",
       " '2391-145015-0074',\n",
       " '3879-174923-0042',\n",
       " '1963-142776-0002',\n",
       " '7800-283493-0028',\n",
       " '403-126855-0028',\n",
       " '3699-175950-0012',\n",
       " '5678-43302-0008',\n",
       " '3240-131232-0039',\n",
       " '8123-275193-0023',\n",
       " '5104-33406-0043',\n",
       " '4813-248641-0024',\n",
       " '5163-18515-0020',\n",
       " '1235-135883-0038',\n",
       " '625-132112-0005',\n",
       " '7148-82991-0035',\n",
       " '2391-145015-0076',\n",
       " '4297-13006-0012',\n",
       " '5652-39938-0023',\n",
       " '5322-7679-0022',\n",
       " '4362-15663-0087',\n",
       " '7190-90542-0074',\n",
       " '8975-270782-0079',\n",
       " '83-11691-0019',\n",
       " '211-122425-0020',\n",
       " '201-127786-0018',\n",
       " '730-358-0039',\n",
       " '3214-167606-0033',\n",
       " '8609-283227-0040',\n",
       " '5789-57195-0004',\n",
       " '3235-11599-0008',\n",
       " '3240-131231-0047',\n",
       " '1743-142914-0019',\n",
       " '2910-131096-0044',\n",
       " '2136-5147-0039',\n",
       " '8629-261139-0013',\n",
       " '3259-158083-0020',\n",
       " '4297-13006-0036',\n",
       " '307-127539-0000',\n",
       " '87-121553-0051',\n",
       " '8324-286682-0028',\n",
       " '6064-56165-0017',\n",
       " '3168-173564-0018',\n",
       " '1363-139304-0032',\n",
       " '1263-141777-0013',\n",
       " '250-142276-0042',\n",
       " '2893-139322-0001',\n",
       " '229-130880-0022',\n",
       " '19-198-0005',\n",
       " '3240-131231-0011',\n",
       " '2910-131096-0026',\n",
       " '1594-135914-0087',\n",
       " '8630-305212-0037',\n",
       " '19-198-0036',\n",
       " '6209-34601-0019',\n",
       " '1992-141719-0026',\n",
       " '6064-56168-0015',\n",
       " '1116-132847-0012',\n",
       " '307-127535-0038',\n",
       " '8324-286683-0015',\n",
       " '4680-16042-0018',\n",
       " '374-180298-0029',\n",
       " '4195-186237-0013',\n",
       " '5789-57195-0025',\n",
       " '8226-274369-0031',\n",
       " '4481-17499-0014',\n",
       " '6454-107462-0031',\n",
       " '625-132112-0055',\n",
       " '403-126855-0022',\n",
       " '5678-43302-0012',\n",
       " '6078-54007-0001',\n",
       " '1081-125237-0039',\n",
       " '1034-121119-0065',\n",
       " '103-1240-0054',\n",
       " '4853-27670-0027',\n",
       " '4267-72637-0034',\n",
       " '8312-279790-0003',\n",
       " '26-495-0036',\n",
       " '911-128684-0008',\n",
       " '730-359-0038',\n",
       " '6078-54013-0024',\n",
       " '3235-28452-0018',\n",
       " '8324-286681-0000',\n",
       " '4160-11549-0018',\n",
       " '7178-34645-0000',\n",
       " '5049-25947-0091',\n",
       " '5514-19192-0009',\n",
       " '8238-283452-0014',\n",
       " '8123-275193-0016',\n",
       " '2182-181173-0019',\n",
       " '5104-33406-0037',\n",
       " '2092-145706-0082',\n",
       " '211-122442-0077',\n",
       " '311-124404-0011',\n",
       " '5652-39938-0027',\n",
       " '125-121124-0015',\n",
       " '5561-39621-0038',\n",
       " '8580-287363-0011',\n",
       " '83-9960-0017',\n",
       " '6563-63821-0024',\n",
       " '1992-141719-0051',\n",
       " '3699-175950-0020',\n",
       " '8630-305213-0008',\n",
       " '8465-246940-0003',\n",
       " '374-180298-0058',\n",
       " '2289-152254-0013',\n",
       " '4051-10927-0023',\n",
       " '6415-116629-0008',\n",
       " '909-131045-0040',\n",
       " '8014-112586-0011',\n",
       " '4014-186179-0031',\n",
       " '5022-29405-0036',\n",
       " '8088-284756-0032',\n",
       " '2182-181183-0025',\n",
       " '250-140277-0012',\n",
       " '2817-142380-0022',\n",
       " '2196-170379-0006',\n",
       " '4853-29413-0007',\n",
       " '3879-174923-0019',\n",
       " '730-358-0000',\n",
       " '7078-271888-0053',\n",
       " '4397-15668-0012',\n",
       " '4195-186237-0025',\n",
       " '4813-248641-0033',\n",
       " '5652-39938-0034',\n",
       " '1743-142912-0018',\n",
       " '1723-141149-0082',\n",
       " '6880-216547-0053',\n",
       " '1594-135914-0104',\n",
       " '2911-12359-0002',\n",
       " '6000-86686-0013',\n",
       " '233-155990-0023',\n",
       " '332-128985-0010',\n",
       " '7148-59157-0036',\n",
       " '1069-133699-0035',\n",
       " '6476-57446-0019',\n",
       " '1069-133699-0011',\n",
       " '2002-139469-0043',\n",
       " '32-21631-0004',\n",
       " '5688-41232-0044',\n",
       " '307-127539-0040',\n",
       " '8123-275209-0028',\n",
       " '4195-186237-0000',\n",
       " '3723-171631-0059',\n",
       " '7367-86737-0026',\n",
       " '1867-148436-0036',\n",
       " '6818-76332-0042',\n",
       " '8098-278278-0004',\n",
       " '4640-19188-0036',\n",
       " '460-172359-0060',\n",
       " '5652-19215-0041',\n",
       " '446-123502-0039',\n",
       " '40-222-0027',\n",
       " '831-130746-0048',\n",
       " '3857-180923-0009',\n",
       " '1363-139304-0016',\n",
       " '6563-285357-0018',\n",
       " '7190-90542-0066',\n",
       " '1624-168623-0033',\n",
       " '200-126784-0016',\n",
       " '298-126791-0003',\n",
       " '669-129061-0016',\n",
       " '1334-135589-0020',\n",
       " '4441-76262-0036',\n",
       " '8609-283227-0008',\n",
       " '87-121553-0031',\n",
       " '3112-9555-0064',\n",
       " '7078-271888-0020',\n",
       " '4397-15668-0036',\n",
       " '6064-300880-0034',\n",
       " '1447-130550-0020',\n",
       " '6848-76049-0006',\n",
       " '3830-12531-0004',\n",
       " '7067-76048-0020',\n",
       " '5022-29411-0030',\n",
       " '8088-284756-0077',\n",
       " '1898-145724-0034',\n",
       " '6147-34605-0040',\n",
       " '1743-142913-0027',\n",
       " '250-142276-0050',\n",
       " '1970-26100-0016',\n",
       " '8629-261140-0020',\n",
       " '4481-17499-0001',\n",
       " '5104-33406-0058',\n",
       " '4397-15678-0037',\n",
       " '6147-34606-0034',\n",
       " '328-129766-0097',\n",
       " '4267-287369-0003',\n",
       " '103-1240-0025',\n",
       " '6818-76332-0051',\n",
       " '5808-54425-0005',\n",
       " '7859-102518-0022',\n",
       " '6385-34655-0014',\n",
       " '125-121124-0069',\n",
       " '3242-67153-0023',\n",
       " '2817-142371-0062',\n",
       " '7148-7763-0016',\n",
       " '3983-5371-0030',\n",
       " '6209-34601-0003',\n",
       " '7505-258964-0037',\n",
       " '40-222-0030',\n",
       " '8797-294123-0093',\n",
       " '150-132655-0034',\n",
       " '7190-90542-0037',\n",
       " '6437-66173-0052',\n",
       " '5688-15787-0017',\n",
       " '32-21631-0010',\n",
       " '5678-43302-0023',\n",
       " '1088-129236-0023',\n",
       " '6531-61334-0058',\n",
       " '2910-131096-0067',\n",
       " '6385-220959-0008',\n",
       " '8063-274115-0036',\n",
       " '39-121916-0011',\n",
       " '6529-62554-0019',\n",
       " '5163-18515-0049',\n",
       " '441-130108-0032',\n",
       " '6415-100596-0020',\n",
       " '7635-105409-0067',\n",
       " '3240-131232-0001',\n",
       " '1624-168623-0045',\n",
       " '7367-86737-0028',\n",
       " '4898-28461-0033',\n",
       " '5514-19192-0013',\n",
       " '1594-135914-0072',\n",
       " '307-127535-0041',\n",
       " '8465-246942-0002',\n",
       " '4406-16882-0058',\n",
       " '3242-67168-0020',\n",
       " '412-126975-0030',\n",
       " '248-130652-0014',\n",
       " '1867-148436-0023',\n",
       " '6531-61334-0079',\n",
       " '2416-152139-0041',\n",
       " '3242-8112-0007',\n",
       " '3664-178355-0016',\n",
       " '6925-80680-0069',\n",
       " '78-368-0033',\n",
       " '3242-8112-0015',\n",
       " '2843-152918-0097',\n",
       " '1992-141719-0003',\n",
       " '60-121082-0025',\n",
       " '4640-19189-0028',\n",
       " '1355-39947-0033',\n",
       " '118-47824-0075',\n",
       " '3983-5371-0018',\n",
       " '2836-5354-0035',\n",
       " '7794-295948-0012',\n",
       " '6818-68772-0016',\n",
       " '8770-295463-0001',\n",
       " '4640-19189-0017',\n",
       " '6437-66173-0036',\n",
       " '4406-16882-0022',\n",
       " '211-122442-0011',\n",
       " '8580-287363-0024',\n",
       " '8629-261139-0007',\n",
       " '311-124404-0040',\n",
       " '6454-107462-0018',\n",
       " '8238-274553-0037',\n",
       " '3259-158083-0003',\n",
       " '8425-292520-0011',\n",
       " '5390-30096-0012',\n",
       " '4088-158077-0076',\n",
       " '5867-48852-0003',\n",
       " '2289-152258-0021',\n",
       " '7226-86965-0030',\n",
       " '307-127539-0031',\n",
       " '27-123349-0016',\n",
       " '200-126784-0008',\n",
       " '19-227-0061',\n",
       " '3879-174923-0028',\n",
       " '3214-167602-0007',\n",
       " '3857-182315-0041',\n",
       " '3664-178366-0011',\n",
       " '1040-133433-0032',\n",
       " '2911-15045-0013',\n",
       " '8770-295465-0030',\n",
       " '5049-25947-0000',\n",
       " '19-198-0032',\n",
       " '2436-2476-0035',\n",
       " '1116-132847-0021',\n",
       " '1502-122619-0084',\n",
       " '5778-12761-0021',\n",
       " '730-360-0041',\n",
       " '3607-29116-0006',\n",
       " '5688-15787-0031',\n",
       " '730-358-0044',\n",
       " '5339-14134-0000',\n",
       " '6272-70168-0003',\n",
       " '2910-131096-0021',\n",
       " '7402-59171-0033',\n",
       " '8838-298546-0031',\n",
       " '163-122947-0061',\n",
       " '7113-86041-0074',\n",
       " '6385-220959-0027',\n",
       " '1926-147979-0025',\n",
       " '4640-19187-0004',\n",
       " '4441-76250-0038',\n",
       " '2159-179157-0016',\n",
       " '3374-298026-0000',\n",
       " '1040-133433-0029',\n",
       " '6531-61334-0004',\n",
       " '1926-143879-0006',\n",
       " '1594-135914-0091',\n",
       " '426-122819-0017',\n",
       " '4853-27671-0013',\n",
       " '8014-112586-0009',\n",
       " '211-122425-0019',\n",
       " '3240-131231-0038',\n",
       " '2989-138035-0059',\n",
       " '1447-130550-0006',\n",
       " '7059-77900-0021',\n",
       " '1743-142914-0017',\n",
       " '229-130880-0039',\n",
       " '1624-168623-0037',\n",
       " '4160-14187-0018',\n",
       " '7078-271888-0063',\n",
       " '3440-171006-0020',\n",
       " '7226-86964-0043',\n",
       " '2893-139310-0039',\n",
       " '3436-172171-0010',\n",
       " '1088-134318-0010',\n",
       " '374-180298-0039',\n",
       " '78-369-0022',\n",
       " '8468-295198-0023',\n",
       " '3242-8112-0020',\n",
       " '4214-7146-0011',\n",
       " '1081-125237-0003',\n",
       " '2384-152900-0029',\n",
       " '1737-146161-0000',\n",
       " '3259-158083-0109',\n",
       " '1992-141719-0033',\n",
       " '911-128684-0046',\n",
       " '2196-174172-0021',\n",
       " '4051-10927-0012',\n",
       " '7794-295947-0008',\n",
       " '669-129061-0037',\n",
       " '3526-175658-0004',\n",
       " '211-122425-0036',\n",
       " '2436-2481-0005',\n",
       " '587-54108-0037',\n",
       " '6454-93938-0007',\n",
       " '1502-122619-0004',\n",
       " '7859-102519-0053',\n",
       " '3982-178459-0041',\n",
       " '7278-246956-0020',\n",
       " '1502-122619-0081',\n",
       " '3699-47246-0001',\n",
       " '911-128684-0023',\n",
       " '426-122819-0024',\n",
       " '6000-86686-0007',\n",
       " '3879-174923-0036',\n",
       " '405-130895-0003',\n",
       " '1737-148989-0013',\n",
       " '3607-29116-0011',\n",
       " '2910-131096-0058',\n",
       " '226-131532-0021',\n",
       " '5192-19397-0008',\n",
       " '7402-59171-0013',\n",
       " '7302-86815-0050',\n",
       " '6000-86686-0006',\n",
       " '2910-131096-0001',\n",
       " '374-180298-0000',\n",
       " '1502-122619-0022',\n",
       " '39-121916-0020',\n",
       " '6147-34605-0037',\n",
       " '6563-63821-0001',\n",
       " '198-126831-0007',\n",
       " '1235-135883-0023',\n",
       " '4014-186176-0003',\n",
       " '4813-248641-0004',\n",
       " '6019-3185-0057',\n",
       " '1624-168623-0048',\n",
       " '6454-93938-0003',\n",
       " '39-121915-0005',\n",
       " '8238-274553-0048',\n",
       " '103-1241-0028',\n",
       " '87-121553-0080',\n",
       " '6385-220959-0035',\n",
       " '7264-92314-0009',\n",
       " '7447-91186-0006',\n",
       " '5339-14134-0033',\n",
       " '5339-14134-0078',\n",
       " '4853-27670-0005',\n",
       " '1578-6379-0026',\n",
       " '403-128339-0037',\n",
       " '3982-178459-0020',\n",
       " '5789-57158-0026',\n",
       " '6818-76332-0003',\n",
       " '7635-105409-0027',\n",
       " '7148-59157-0010',\n",
       " '289-121652-0011',\n",
       " '5339-14133-0029',\n",
       " '60-121082-0029',\n",
       " '6529-62556-0018',\n",
       " '2952-410-0045',\n",
       " '7264-92316-0001',\n",
       " '1502-122619-0002',\n",
       " '103-1240-0022',\n",
       " '1737-148989-0019',\n",
       " '4137-11702-0059',\n",
       " '3723-171115-0011',\n",
       " '4680-16042-0013',\n",
       " '2910-131096-0083',\n",
       " '4137-11702-0022',\n",
       " '5393-19218-0028',\n",
       " '5703-47212-0001',\n",
       " '7402-90848-0028',\n",
       " '302-123516-0013',\n",
       " '1088-134315-0039',\n",
       " '7078-271888-0093',\n",
       " '83-9960-0000',\n",
       " '3982-182255-0016',\n",
       " '5163-18515-0021',\n",
       " '5867-48852-0107',\n",
       " ...]"
      ]
     },
     "execution_count": 93,
     "metadata": {},
     "output_type": "execute_result"
    }
   ],
   "source": [
    "partition['validation']"
   ]
  },
  {
   "cell_type": "markdown",
   "metadata": {},
   "source": [
    "## Data Generator"
   ]
  },
  {
   "cell_type": "code",
   "execution_count": 94,
   "metadata": {},
   "outputs": [
    {
     "name": "stderr",
     "output_type": "stream",
     "text": [
      "Using TensorFlow backend.\n",
      "/home/punch/anaconda3/lib/python3.7/site-packages/tensorflow/python/framework/dtypes.py:516: FutureWarning: Passing (type, 1) or '1type' as a synonym of type is deprecated; in a future version of numpy, it will be understood as (type, (1,)) / '(1,)type'.\n",
      "  _np_qint8 = np.dtype([(\"qint8\", np.int8, 1)])\n",
      "/home/punch/anaconda3/lib/python3.7/site-packages/tensorflow/python/framework/dtypes.py:517: FutureWarning: Passing (type, 1) or '1type' as a synonym of type is deprecated; in a future version of numpy, it will be understood as (type, (1,)) / '(1,)type'.\n",
      "  _np_quint8 = np.dtype([(\"quint8\", np.uint8, 1)])\n",
      "/home/punch/anaconda3/lib/python3.7/site-packages/tensorflow/python/framework/dtypes.py:518: FutureWarning: Passing (type, 1) or '1type' as a synonym of type is deprecated; in a future version of numpy, it will be understood as (type, (1,)) / '(1,)type'.\n",
      "  _np_qint16 = np.dtype([(\"qint16\", np.int16, 1)])\n",
      "/home/punch/anaconda3/lib/python3.7/site-packages/tensorflow/python/framework/dtypes.py:519: FutureWarning: Passing (type, 1) or '1type' as a synonym of type is deprecated; in a future version of numpy, it will be understood as (type, (1,)) / '(1,)type'.\n",
      "  _np_quint16 = np.dtype([(\"quint16\", np.uint16, 1)])\n",
      "/home/punch/anaconda3/lib/python3.7/site-packages/tensorflow/python/framework/dtypes.py:520: FutureWarning: Passing (type, 1) or '1type' as a synonym of type is deprecated; in a future version of numpy, it will be understood as (type, (1,)) / '(1,)type'.\n",
      "  _np_qint32 = np.dtype([(\"qint32\", np.int32, 1)])\n",
      "/home/punch/anaconda3/lib/python3.7/site-packages/tensorflow/python/framework/dtypes.py:525: FutureWarning: Passing (type, 1) or '1type' as a synonym of type is deprecated; in a future version of numpy, it will be understood as (type, (1,)) / '(1,)type'.\n",
      "  np_resource = np.dtype([(\"resource\", np.ubyte, 1)])\n"
     ]
    }
   ],
   "source": [
    "import numpy as np\n",
    "import keras\n",
    "\n",
    "class DataGenerator(keras.utils.Sequence):\n",
    "    'Generates data for Keras'\n",
    "    def __init__(self, list_IDs, labels, batch_size=32, dim=(1000,23), n_channels=1,\n",
    "                 n_classes=num_speakers, shuffle=True):\n",
    "        'Initialization'\n",
    "        self.dim = dim\n",
    "        self.batch_size = batch_size\n",
    "        self.labels = labels\n",
    "        self.list_IDs = list_IDs\n",
    "        self.n_channels = n_channels\n",
    "        self.n_classes = n_classes\n",
    "        self.shuffle = shuffle\n",
    "        self.on_epoch_end()\n",
    "\n",
    "    def __len__(self):\n",
    "        'Denotes the number of batches per epoch'\n",
    "        return int(np.floor(len(self.list_IDs) / self.batch_size))\n",
    "\n",
    "    def __getitem__(self, index):\n",
    "        'Generate one batch of data'\n",
    "        # Generate indexes of the batch\n",
    "        indexes = self.indexes[index*self.batch_size:(index+1)*self.batch_size]\n",
    "\n",
    "        # Find list of IDs\n",
    "        list_IDs_temp = [self.list_IDs[k] for k in indexes]\n",
    "        #print(list_IDs_temp)\n",
    "        # Generate data\n",
    "        X, y = self.__data_generation(list_IDs_temp)\n",
    "\n",
    "        return X, y\n",
    "\n",
    "    def on_epoch_end(self):\n",
    "        'Updates indexes after each epoch'\n",
    "        self.indexes = np.arange(len(self.list_IDs))\n",
    "        if self.shuffle == True:\n",
    "            np.random.shuffle(self.indexes)\n",
    "\n",
    "    def __data_generation(self, list_IDs_temp):\n",
    "        'Generates data containing batch_size samples' # X : (n_samples, *dim, n_channels)\n",
    "        # Initialization\n",
    "        X = np.empty((self.batch_size, *self.dim))\n",
    "        y = np.empty((self.batch_size), dtype=int)\n",
    "\n",
    "        # Generate data\n",
    "        for i, ID in enumerate(list_IDs_temp):\n",
    "            # Store sample\n",
    "            X[i,] = load_obj(ID)\n",
    "\n",
    "            # Store class\n",
    "            y[i] = self.labels[ID]\n",
    "\n",
    "        return X, keras.utils.to_categorical(y, num_classes=self.n_classes)"
   ]
  },
  {
   "cell_type": "markdown",
   "metadata": {},
   "source": [
    "# Keras script"
   ]
  },
  {
   "cell_type": "code",
   "execution_count": 97,
   "metadata": {
    "scrolled": true
   },
   "outputs": [
    {
     "name": "stderr",
     "output_type": "stream",
     "text": [
      "/home/punch/anaconda3/lib/python3.7/site-packages/ipykernel_launcher.py:23: UserWarning: Update your `Conv1D` call to the Keras 2 API: `Conv1D(256, 5, input_shape=(1000, 23), padding=\"valid\")`\n",
      "/home/punch/anaconda3/lib/python3.7/site-packages/ipykernel_launcher.py:26: UserWarning: Update your `Conv1D` call to the Keras 2 API: `Conv1D(128, 3, padding=\"valid\")`\n",
      "/home/punch/anaconda3/lib/python3.7/site-packages/ipykernel_launcher.py:29: UserWarning: Update your `Conv1D` call to the Keras 2 API: `Conv1D(64, 3, padding=\"valid\")`\n"
     ]
    },
    {
     "name": "stdout",
     "output_type": "stream",
     "text": [
      "Model: \"sequential_1\"\n",
      "_________________________________________________________________\n",
      "Layer (type)                 Output Shape              Param #   \n",
      "=================================================================\n",
      "conv1d_1 (Conv1D)            (None, 996, 256)          29696     \n",
      "_________________________________________________________________\n",
      "max_pooling1d_1 (MaxPooling1 (None, 992, 256)          0         \n",
      "_________________________________________________________________\n",
      "dropout_1 (Dropout)          (None, 992, 256)          0         \n",
      "_________________________________________________________________\n",
      "conv1d_2 (Conv1D)            (None, 990, 128)          98432     \n",
      "_________________________________________________________________\n",
      "max_pooling1d_2 (MaxPooling1 (None, 988, 128)          0         \n",
      "_________________________________________________________________\n",
      "dropout_2 (Dropout)          (None, 988, 128)          0         \n",
      "_________________________________________________________________\n",
      "conv1d_3 (Conv1D)            (None, 986, 64)           24640     \n",
      "_________________________________________________________________\n",
      "max_pooling1d_3 (MaxPooling1 (None, 984, 64)           0         \n",
      "_________________________________________________________________\n",
      "dropout_3 (Dropout)          (None, 984, 64)           0         \n",
      "_________________________________________________________________\n",
      "dense_1 (Dense)              (None, 984, 256)          16640     \n",
      "_________________________________________________________________\n",
      "dropout_4 (Dropout)          (None, 984, 256)          0         \n",
      "_________________________________________________________________\n",
      "dense_2 (Dense)              (None, 984, 256)          65792     \n",
      "_________________________________________________________________\n",
      "global_average_pooling1d_1 ( (None, 256)               0         \n",
      "_________________________________________________________________\n",
      "dense_3 (Dense)              (None, 251)               64507     \n",
      "=================================================================\n",
      "Total params: 299,707\n",
      "Trainable params: 299,707\n",
      "Non-trainable params: 0\n",
      "_________________________________________________________________\n",
      "Epoch 1/50\n",
      "1426/1426 [==============================] - 208s 146ms/step - loss: 4.3777 - accuracy: 0.0999 - val_loss: 2.5617 - val_accuracy: 0.3487\n",
      "Epoch 2/50\n",
      "1426/1426 [==============================] - 216s 152ms/step - loss: 1.7866 - accuracy: 0.5462 - val_loss: 0.9475 - val_accuracy: 0.6570\n",
      "Epoch 3/50\n",
      "1426/1426 [==============================] - 220s 154ms/step - loss: 0.9756 - accuracy: 0.7403 - val_loss: 1.8318 - val_accuracy: 0.7753\n",
      "Epoch 4/50\n",
      "1426/1426 [==============================] - 220s 154ms/step - loss: 0.6798 - accuracy: 0.8154 - val_loss: 0.5938 - val_accuracy: 0.8181\n",
      "Epoch 5/50\n",
      "1426/1426 [==============================] - 221s 155ms/step - loss: 0.5378 - accuracy: 0.8508 - val_loss: 0.4090 - val_accuracy: 0.8462\n",
      "Epoch 6/50\n",
      "1426/1426 [==============================] - 221s 155ms/step - loss: 0.4421 - accuracy: 0.8775 - val_loss: 0.2531 - val_accuracy: 0.8778\n",
      "Epoch 7/50\n",
      "1426/1426 [==============================] - 221s 155ms/step - loss: 0.4008 - accuracy: 0.8879 - val_loss: 0.6447 - val_accuracy: 0.8557\n",
      "Epoch 8/50\n",
      "1426/1426 [==============================] - 220s 154ms/step - loss: 0.3433 - accuracy: 0.9031 - val_loss: 0.6611 - val_accuracy: 0.8690\n",
      "\n",
      "Epoch 00008: ReduceLROnPlateau reducing learning rate to 0.0005000000237487257.\n",
      "Epoch 9/50\n",
      "1426/1426 [==============================] - 220s 154ms/step - loss: 0.1641 - accuracy: 0.9537 - val_loss: 0.3167 - val_accuracy: 0.9098\n",
      "Epoch 10/50\n",
      "1426/1426 [==============================] - 221s 155ms/step - loss: 0.1533 - accuracy: 0.9546 - val_loss: 0.0528 - val_accuracy: 0.9175\n",
      "Epoch 11/50\n",
      "1426/1426 [==============================] - 221s 155ms/step - loss: 0.1339 - accuracy: 0.9612 - val_loss: 0.0117 - val_accuracy: 0.9301\n",
      "Epoch 12/50\n",
      "1426/1426 [==============================] - 221s 155ms/step - loss: 0.1401 - accuracy: 0.9576 - val_loss: 0.3842 - val_accuracy: 0.9245\n",
      "Epoch 13/50\n",
      "1426/1426 [==============================] - 220s 154ms/step - loss: 0.1217 - accuracy: 0.9647 - val_loss: 0.7805 - val_accuracy: 0.9091\n",
      "\n",
      "Epoch 00013: ReduceLROnPlateau reducing learning rate to 0.0002500000118743628.\n",
      "Epoch 14/50\n",
      "1426/1426 [==============================] - 218s 153ms/step - loss: 0.0551 - accuracy: 0.9837 - val_loss: 0.0707 - val_accuracy: 0.9491\n",
      "Epoch 15/50\n",
      "1426/1426 [==============================] - 216s 152ms/step - loss: 0.0541 - accuracy: 0.9839 - val_loss: 0.3128 - val_accuracy: 0.9445\n",
      "\n",
      "Epoch 00015: ReduceLROnPlateau reducing learning rate to 0.0001250000059371814.\n",
      "Epoch 16/50\n",
      "1426/1426 [==============================] - 216s 151ms/step - loss: 0.0279 - accuracy: 0.9921 - val_loss: 8.1868e-05 - val_accuracy: 0.9547\n",
      "Epoch 17/50\n",
      "1426/1426 [==============================] - 216s 152ms/step - loss: 0.0285 - accuracy: 0.9915 - val_loss: 0.0199 - val_accuracy: 0.9561\n",
      "Epoch 18/50\n",
      "1426/1426 [==============================] - 216s 152ms/step - loss: 0.0247 - accuracy: 0.9932 - val_loss: 7.6668e-05 - val_accuracy: 0.9522\n",
      "\n",
      "Epoch 00018: ReduceLROnPlateau reducing learning rate to 6.25000029685907e-05.\n",
      "Epoch 19/50\n",
      "1426/1426 [==============================] - 216s 152ms/step - loss: 0.0182 - accuracy: 0.9951 - val_loss: 0.0035 - val_accuracy: 0.9551\n",
      "Epoch 20/50\n",
      "1426/1426 [==============================] - 221s 155ms/step - loss: 0.0140 - accuracy: 0.9963 - val_loss: 0.0679 - val_accuracy: 0.9579\n",
      "\n",
      "Epoch 00020: ReduceLROnPlateau reducing learning rate to 3.125000148429535e-05.\n",
      "Epoch 21/50\n",
      "1426/1426 [==============================] - 222s 155ms/step - loss: 0.0118 - accuracy: 0.9968 - val_loss: 0.0212 - val_accuracy: 0.9596\n",
      "Epoch 22/50\n",
      "1426/1426 [==============================] - 221s 155ms/step - loss: 0.0101 - accuracy: 0.9975 - val_loss: 0.0032 - val_accuracy: 0.9610\n",
      "\n",
      "Epoch 00022: ReduceLROnPlateau reducing learning rate to 1.5625000742147677e-05.\n",
      "Epoch 23/50\n",
      "1426/1426 [==============================] - 221s 155ms/step - loss: 0.0104 - accuracy: 0.9970 - val_loss: 0.0236 - val_accuracy: 0.9628\n",
      "Epoch 24/50\n",
      "1426/1426 [==============================] - 220s 155ms/step - loss: 0.0093 - accuracy: 0.9977 - val_loss: 0.4537 - val_accuracy: 0.9610\n",
      "\n",
      "Epoch 00024: ReduceLROnPlateau reducing learning rate to 1e-05.\n",
      "Epoch 25/50\n",
      "1426/1426 [==============================] - 220s 154ms/step - loss: 0.0087 - accuracy: 0.9978 - val_loss: 0.5546 - val_accuracy: 0.9614\n",
      "Epoch 26/50\n",
      "1426/1426 [==============================] - 222s 155ms/step - loss: 0.0080 - accuracy: 0.9979 - val_loss: 0.4100 - val_accuracy: 0.9610\n",
      "Epoch 27/50\n",
      "1426/1426 [==============================] - 222s 156ms/step - loss: 0.0084 - accuracy: 0.9980 - val_loss: 0.0016 - val_accuracy: 0.9603\n",
      "Epoch 28/50\n",
      "1426/1426 [==============================] - 221s 155ms/step - loss: 0.0083 - accuracy: 0.9979 - val_loss: 0.0036 - val_accuracy: 0.9624\n",
      "Restoring model weights from the end of the best epoch\n",
      "Epoch 00028: early stopping\n"
     ]
    }
   ],
   "source": [
    "import numpy as np\n",
    "\n",
    "from keras.models import Sequential\n",
    "from keras.layers import Dense, Conv1D, GlobalAveragePooling1D, Dropout, Conv1D, MaxPooling1D\n",
    "from keras.optimizers import Adam\n",
    "from keras.callbacks import EarlyStopping, ReduceLROnPlateau, CSVLogger, ModelCheckpoint, LambdaCallback\n",
    "from keras import backend as K \n",
    "\n",
    "K.clear_session()\n",
    "# Parameters\n",
    "params = {'dim': (MFCC_MAX_LEN, NUM_CEPSTRUM),\n",
    "          'batch_size': 16,\n",
    "          'n_classes': count,\n",
    "          'n_channels': 1,\n",
    "          'shuffle': True}\n",
    "\n",
    "# Generators\n",
    "training_generator = DataGenerator(partition['train'], labels, **params)\n",
    "validation_generator = DataGenerator(partition['validation'], labels, **params)\n",
    "\n",
    "# Design model\n",
    "model = Sequential()\n",
    "model.add(Conv1D(256, 5, border_mode='valid', input_shape=(MFCC_MAX_LEN, NUM_CEPSTRUM)))\n",
    "model.add(MaxPooling1D(pool_size=5, strides=1))\n",
    "model.add(Dropout(0.3))\n",
    "model.add(Conv1D(128, 3, border_mode='valid'))\n",
    "model.add(MaxPooling1D(pool_size=3, strides=1))\n",
    "model.add(Dropout(0.3))\n",
    "model.add(Conv1D(64, 3, border_mode='valid'))\n",
    "model.add(MaxPooling1D(pool_size=3, strides=1))\n",
    "model.add(Dropout(0.3))\n",
    "model.add(Dense(units=256, activation='relu'))\n",
    "model.add(Dropout(0.3))\n",
    "model.add(Dense(units=256, activation='relu'))\n",
    "model.add(GlobalAveragePooling1D())\n",
    "model.add(Dense(units=251, activation='softmax'))\n",
    "model.compile(loss='categorical_crossentropy',\n",
    "              optimizer=Adam(0.0005),\n",
    "              metrics=['accuracy'])\n",
    "model.summary()\n",
    "\n",
    "# checkpoint\n",
    "filepath=\"model2.h5\"\n",
    "# checkpoint = ModelCheckpoint(filepath, monitor='val_accuracy', verbose=1, save_best_only=True, mode='max')\n",
    "early_stopping = EarlyStopping(monitor='val_loss', patience=10, verbose=1, restore_best_weights=True)\n",
    "reduce_lr = ReduceLROnPlateau(monitor='val_loss', factor=0.5, patience=2, min_lr=0.00001, verbose=1)\n",
    "# Train model on dataset\n",
    "history = model.fit_generator(generator=training_generator,\n",
    "                    epochs=50,\n",
    "                    validation_data=validation_generator,\n",
    "                    use_multiprocessing=True,\n",
    "                    callbacks=[reduce_lr, early_stopping],\n",
    "                    verbose=1,\n",
    "                    workers=10)\n",
    "model.save(filepath)"
   ]
  },
  {
   "cell_type": "code",
   "execution_count": 32,
   "metadata": {},
   "outputs": [],
   "source": [
    "# ใช้เวลาให้น้อยลงโดยการลด frame"
   ]
  },
  {
   "cell_type": "code",
   "execution_count": 98,
   "metadata": {},
   "outputs": [
    {
     "data": {
      "image/png": "[encoded data removed]",
      "text/plain": [
       "<Figure size 432x288 with 1 Axes>"
      ]
     },
     "metadata": {
      "needs_background": "light"
     },
     "output_type": "display_data"
    },
    {
     "data": {
      "image/png": "[encoded data removed]",
      "text/plain": [
       "<Figure size 432x288 with 1 Axes>"
      ]
     },
     "metadata": {
      "needs_background": "light"
     },
     "output_type": "display_data"
    }
   ],
   "source": [
    "# summarize history for accuracy\n",
    "plt.plot(history.history['accuracy'])\n",
    "plt.plot(history.history['val_accuracy'])\n",
    "plt.title('model accuracy')\n",
    "plt.ylabel('accuracy')\n",
    "plt.xlabel('epoch')\n",
    "plt.legend(['train', 'test'], loc='upper left')\n",
    "plt.show()\n",
    "# summarize history for loss\n",
    "plt.plot(history.history['loss'])\n",
    "plt.plot(history.history['val_loss'])\n",
    "plt.title('model loss')\n",
    "plt.ylabel('loss')\n",
    "plt.xlabel('epoch')\n",
    "plt.legend(['train', 'test'], loc='upper left')\n",
    "plt.show()"
   ]
  },
  {
   "cell_type": "markdown",
   "metadata": {},
   "source": [
    "## Error Analysis"
   ]
  },
  {
   "cell_type": "code",
   "execution_count": null,
   "metadata": {},
   "outputs": [],
   "source": [
    "import soundfile as sf\n",
    "from IPython.display import Audio, clear_output, display\n",
    "sampling_rate = 16000"
   ]
  }
 ],
 "metadata": {
  "kernelspec": {
   "display_name": "Python 3",
   "language": "python",
   "name": "python3"
  },
  "language_info": {
   "codemirror_mode": {
    "name": "ipython",
    "version": 3
   },
   "file_extension": ".py",
   "mimetype": "text/x-python",
   "name": "python",
   "nbconvert_exporter": "python",
   "pygments_lexer": "ipython3",
   "version": "3.7.0"
  }
 },
 "nbformat": 4,
 "nbformat_minor": 1
}
